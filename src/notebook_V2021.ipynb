{
 "metadata": {
  "language_info": {
   "codemirror_mode": {
    "name": "ipython",
    "version": 3
   },
   "file_extension": ".py",
   "mimetype": "text/x-python",
   "name": "python",
   "nbconvert_exporter": "python",
   "pygments_lexer": "ipython3",
   "version": "3.7.9"
  },
  "orig_nbformat": 2,
  "kernelspec": {
   "name": "python379jvsc74a57bd00d5021ee7494851de8715903fea54d5063ca938bae8d06beb5278396b24306d0",
   "display_name": "Python 3.7.9 64-bit ('data-science': conda)"
  }
 },
 "nbformat": 4,
 "nbformat_minor": 2,
 "cells": [
  {
   "cell_type": "code",
   "execution_count": 45,
   "metadata": {},
   "outputs": [
    {
     "output_type": "stream",
     "name": "stdout",
     "text": [
      "The autoreload extension is already loaded. To reload it, use:\n  %reload_ext autoreload\n"
     ]
    }
   ],
   "source": [
    "%load_ext autoreload\n",
    "%autoreload 2\n",
    "\n",
    "import pandas as pd\n",
    "import numpy as np\n",
    "import seaborn as sn\n",
    "import matplotlib\n",
    "import matplotlib.pyplot as plt\n",
    "from src.classes.credentials import Credentials as cr"
   ]
  },
  {
   "cell_type": "code",
   "execution_count": 46,
   "metadata": {},
   "outputs": [
    {
     "output_type": "stream",
     "name": "stderr",
     "text": [
      "C:\\Users\\utilisateur\\anaconda3\\envs\\data-science\\lib\\site-packages\\IPython\\core\\interactiveshell.py:3147: DtypeWarning: Columns (18,23,24,26,28,29,31,33,41) have mixed types.Specify dtype option on import or set low_memory=False.\n  interactivity=interactivity, compiler=compiler, result=result)\n"
     ]
    }
   ],
   "source": [
    "valeurs2019 = pd.read_csv(cr.PATH+'2019.txt', sep='|', encoding='utf-8')"
   ]
  },
  {
   "source": [
    "## Informations dataset d'origine"
   ],
   "cell_type": "markdown",
   "metadata": {}
  },
  {
   "cell_type": "code",
   "execution_count": 47,
   "metadata": {},
   "outputs": [
    {
     "output_type": "stream",
     "name": "stdout",
     "text": [
      "<class 'pandas.core.frame.DataFrame'>\nRangeIndex: 2535791 entries, 0 to 2535790\nData columns (total 43 columns):\n #   Column                      Dtype  \n---  ------                      -----  \n 0   Code service CH             float64\n 1   Reference document          float64\n 2   1 Articles CGI              float64\n 3   2 Articles CGI              float64\n 4   3 Articles CGI              float64\n 5   4 Articles CGI              float64\n 6   5 Articles CGI              float64\n 7   No disposition              int64  \n 8   Date mutation               object \n 9   Nature mutation             object \n 10  Valeur fonciere             object \n 11  No voie                     float64\n 12  B/T/Q                       object \n 13  Type de voie                object \n 14  Code voie                   object \n 15  Voie                        object \n 16  Code postal                 float64\n 17  Commune                     object \n 18  Code departement            object \n 19  Code commune                int64  \n 20  Prefixe de section          float64\n 21  Section                     object \n 22  No plan                     int64  \n 23  No Volume                   object \n 24  1er lot                     object \n 25  Surface Carrez du 1er lot   object \n 26  2eme lot                    object \n 27  Surface Carrez du 2eme lot  object \n 28  3eme lot                    object \n 29  Surface Carrez du 3eme lot  object \n 30  4eme lot                    float64\n 31  Surface Carrez du 4eme lot  object \n 32  5eme lot                    float64\n 33  Surface Carrez du 5eme lot  object \n 34  Nombre de lots              int64  \n 35  Code type local             float64\n 36  Type local                  object \n 37  Identifiant local           float64\n 38  Surface reelle bati         float64\n 39  Nombre pieces principales   float64\n 40  Nature culture              object \n 41  Nature culture speciale     object \n 42  Surface terrain             float64\ndtypes: float64(17), int64(4), object(22)\nmemory usage: 831.9+ MB\n"
     ]
    }
   ],
   "source": [
    "valeurs2019.info()"
   ]
  },
  {
   "source": [
    "## Première suppression des colonnes inutilisées. "
   ],
   "cell_type": "markdown",
   "metadata": {}
  },
  {
   "cell_type": "code",
   "execution_count": 48,
   "metadata": {},
   "outputs": [],
   "source": [
    "filteredValeurs2019 = valeurs2019[['Nature mutation', 'Code postal','Nombre pieces principales', 'Surface terrain', 'Surface Carrez du 1er lot', 'Surface Carrez du 2eme lot', 'Surface Carrez du 3eme lot', 'Surface Carrez du 4eme lot', 'Surface Carrez du 5eme lot', 'Valeur fonciere', 'Type local', 'Nombre de lots', 'No voie']]"
   ]
  },
  {
   "source": [
    "## Vérification des valeurs nulles en vue de les supprimer (ou non)"
   ],
   "cell_type": "markdown",
   "metadata": {}
  },
  {
   "cell_type": "code",
   "execution_count": 49,
   "metadata": {},
   "outputs": [
    {
     "output_type": "stream",
     "name": "stdout",
     "text": [
      "Nombre de lignes nulles dans la colonne Nature mutation  :  0\n",
      "Nombre de lignes nulles dans la colonne Code postal  :  28323\n",
      "Nombre de lignes nulles dans la colonne Nombre pieces principales  :  1184176\n",
      "Nombre de lignes nulles dans la colonne Surface terrain  :  792958\n",
      "Nombre de lignes nulles dans la colonne Surface Carrez du 1er lot  :  2314726\n",
      "Nombre de lignes nulles dans la colonne Surface Carrez du 2eme lot  :  2481517\n",
      "Nombre de lignes nulles dans la colonne Surface Carrez du 3eme lot  :  2530577\n",
      "Nombre de lignes nulles dans la colonne Surface Carrez du 4eme lot  :  2534376\n",
      "Nombre de lignes nulles dans la colonne Surface Carrez du 5eme lot  :  2535182\n",
      "Nombre de lignes nulles dans la colonne Valeur fonciere  :  29261\n",
      "Nombre de lignes nulles dans la colonne Type local  :  1182459\n",
      "Nombre de lignes nulles dans la colonne Nombre de lots  :  0\n",
      "Nombre de lignes nulles dans la colonne No voie  :  1025638\n"
     ]
    }
   ],
   "source": [
    "columns = filteredValeurs2019.columns\n",
    "for index in columns :\n",
    "    nancount = filteredValeurs2019[index].isna()\n",
    "    print(\"Nombre de lignes nulles dans la colonne\", index, \" : \", nancount.sum())\n"
   ]
  },
  {
   "source": [
    "On peut donc supprimer les codes postaux nuls (petit pourcentage), les surfaces carrez nulles, qui représentent la quasi totalité du dataset, les valeurs foncières nulles étant donné que c'est notre valeur cible. Nous verrons plus tard pour les types de locaux nuls (beaucoup de valeurs), le nombre de pièces principales, la surface du terrain (vérifier si lorsqu'il n'y a pas de terrain, la valeur est bien égale à 0 et pas nulle). Nous gardons le No voie."
   ],
   "cell_type": "markdown",
   "metadata": {}
  },
  {
   "source": [
    "## Vérifications supplémentaires "
   ],
   "cell_type": "markdown",
   "metadata": {}
  },
  {
   "cell_type": "code",
   "execution_count": 50,
   "metadata": {},
   "outputs": [
    {
     "output_type": "stream",
     "name": "stdout",
     "text": [
      "Surfaces terrain égales à 0 :  59\n",
      "Nombre de pièces principales égales à 0 :  406960\n",
      "C:\\Users\\utilisateur\\anaconda3\\envs\\data-science\\lib\\site-packages\\ipykernel_launcher.py:7: UserWarning: Boolean Series key will be reindexed to match DataFrame index.\n",
      "  import sys\n",
      "Nombre de pièces principales égales à 0 dans les dépendances :  312462\n",
      "Nombre total de dépendances :  312480\n"
     ]
    }
   ],
   "source": [
    "withoutSurface = filteredValeurs2019[['Surface terrain']][filteredValeurs2019['Surface terrain']==0]\n",
    "print('Surfaces terrain égales à 0 : ', len(withoutSurface))\n",
    "\n",
    "withoutPieces = filteredValeurs2019[['Nombre pieces principales']][filteredValeurs2019['Nombre pieces principales']==0]\n",
    "print('Nombre de pièces principales égales à 0 : ', len(withoutPieces))\n",
    "\n",
    "DependenciesWoPiece = filteredValeurs2019[['Nombre pieces principales']][filteredValeurs2019['Nombre pieces principales']==0][filteredValeurs2019['Type local']=='Dépendance']\n",
    "print('Nombre de pièces principales égales à 0 dans les dépendances : ', len(DependenciesWoPiece))\n",
    "\n",
    "Dependencies = filteredValeurs2019[['Nombre pieces principales']][filteredValeurs2019['Type local']=='Dépendance']\n",
    "print('Nombre total de dépendances : ', len(Dependencies))"
   ]
  },
  {
   "source": [
    "Lorsque le bien immobilier n'a pas de terrain, la valeur est bien égale à 0 et pas à un NaN.  On pourra donc supprimer les lignes NaN de la surface terrain.  \n",
    "Toutes les dépendances (pratiquement) sont égales à 0 en terme de nombre de pièces principales. On peut supprimes les pièces principales égales à 0 qui ne sont pas des dépendances. "
   ],
   "cell_type": "markdown",
   "metadata": {}
  },
  {
   "source": [
    "## Transformation de la valeur foncière, de str à float."
   ],
   "cell_type": "markdown",
   "metadata": {}
  },
  {
   "cell_type": "code",
   "execution_count": 51,
   "metadata": {},
   "outputs": [
    {
     "output_type": "stream",
     "name": "stderr",
     "text": [
      "C:\\Users\\utilisateur\\anaconda3\\envs\\data-science\\lib\\site-packages\\pandas\\core\\series.py:4515: SettingWithCopyWarning: \nA value is trying to be set on a copy of a slice from a DataFrame\n\nSee the caveats in the documentation: https://pandas.pydata.org/pandas-docs/stable/user_guide/indexing.html#returning-a-view-versus-a-copy\n  method=method,\n"
     ]
    },
    {
     "output_type": "execute_result",
     "data": {
      "text/plain": [
       "0             37220.0\n",
       "1            185100.0\n",
       "2            185100.0\n",
       "3            209000.0\n",
       "4            134900.0\n",
       "              ...    \n",
       "2535786    17521000.0\n",
       "2535787    17521000.0\n",
       "2535788      610000.0\n",
       "2535789     1400000.0\n",
       "2535790     1400000.0\n",
       "Name: Valeur fonciere, Length: 2535791, dtype: float64"
      ]
     },
     "metadata": {},
     "execution_count": 51
    }
   ],
   "source": [
    "filteredValeurs2019['Valeur fonciere'].replace(',', '.', regex=True, inplace=True)\n",
    "filteredValeurs2019['Valeur fonciere'].astype(float)"
   ]
  },
  {
   "source": [
    "## Coupure du code postal au département pour créer une étiquette département."
   ],
   "cell_type": "markdown",
   "metadata": {}
  },
  {
   "cell_type": "code",
   "execution_count": 52,
   "metadata": {},
   "outputs": [
    {
     "output_type": "stream",
     "name": "stderr",
     "text": [
      "C:\\Users\\utilisateur\\anaconda3\\envs\\data-science\\lib\\site-packages\\ipykernel_launcher.py:1: SettingWithCopyWarning: \n",
      "A value is trying to be set on a copy of a slice from a DataFrame.\n",
      "Try using .loc[row_indexer,col_indexer] = value instead\n",
      "\n",
      "See the caveats in the documentation: https://pandas.pydata.org/pandas-docs/stable/user_guide/indexing.html#returning-a-view-versus-a-copy\n",
      "  \"\"\"Entry point for launching an IPython kernel.\n",
      "C:\\Users\\utilisateur\\anaconda3\\envs\\data-science\\lib\\site-packages\\ipykernel_launcher.py:2: SettingWithCopyWarning: \n",
      "A value is trying to be set on a copy of a slice from a DataFrame.\n",
      "Try using .loc[row_indexer,col_indexer] = value instead\n",
      "\n",
      "See the caveats in the documentation: https://pandas.pydata.org/pandas-docs/stable/user_guide/indexing.html#returning-a-view-versus-a-copy\n",
      "  \n"
     ]
    }
   ],
   "source": [
    "filteredValeurs2019['Code postal'] = filteredValeurs2019['Code postal'].astype(str)\n",
    "filteredValeurs2019['Code postal'] = filteredValeurs2019['Code postal'].dropna()\n",
    "filteredValeurs2019['Departement'] = filteredValeurs2019['Code postal'].str[:-5]\n",
    "filteredValeurs2019['Departement'].head()"
   ]
  },
  {
   "source": [
    "## Premier nettoyage du dataset "
   ],
   "cell_type": "markdown",
   "metadata": {}
  },
  {
   "cell_type": "code",
   "execution_count": 55,
   "metadata": {},
   "outputs": [],
   "source": [
    "filteredValeurs2019 = filteredValeurs2019[['Departement','Nombre pieces principales', 'Surface terrain', 'Valeur fonciere', 'Type local', 'Nombre de lots', 'No voie']][filteredValeurs2019['Nature mutation']=='Vente'].dropna(subset = ['Valeur fonciere', 'Nombre pieces principales', 'Surface terrain', 'No voie'])\n"
   ]
  },
  {
   "cell_type": "code",
   "execution_count": 59,
   "metadata": {},
   "outputs": [
    {
     "output_type": "execute_result",
     "data": {
      "text/plain": [
       "  Departement  Nombre pieces principales  Surface terrain Valeur fonciere  \\\n",
       "0           1                        4.0            940.0       209000.00   \n",
       "1           1                        5.0            490.0       134900.00   \n",
       "2           1                        4.0            708.0       192000.00   \n",
       "3           1                        2.0            631.0        45000.00   \n",
       "4           1                        1.0           2103.0       116000.00   \n",
       "\n",
       "  Type local  Nombre de lots  No voie  \n",
       "0     Maison               0      3.0  \n",
       "1     Maison               0      5.0  \n",
       "2     Maison               0    165.0  \n",
       "3     Maison               0      9.0  \n",
       "4     Maison               0   1724.0  "
      ],
      "text/html": "<div>\n<style scoped>\n    .dataframe tbody tr th:only-of-type {\n        vertical-align: middle;\n    }\n\n    .dataframe tbody tr th {\n        vertical-align: top;\n    }\n\n    .dataframe thead th {\n        text-align: right;\n    }\n</style>\n<table border=\"1\" class=\"dataframe\">\n  <thead>\n    <tr style=\"text-align: right;\">\n      <th></th>\n      <th>Departement</th>\n      <th>Nombre pieces principales</th>\n      <th>Surface terrain</th>\n      <th>Valeur fonciere</th>\n      <th>Type local</th>\n      <th>Nombre de lots</th>\n      <th>No voie</th>\n    </tr>\n  </thead>\n  <tbody>\n    <tr>\n      <th>0</th>\n      <td>1</td>\n      <td>4.0</td>\n      <td>940.0</td>\n      <td>209000.00</td>\n      <td>Maison</td>\n      <td>0</td>\n      <td>3.0</td>\n    </tr>\n    <tr>\n      <th>1</th>\n      <td>1</td>\n      <td>5.0</td>\n      <td>490.0</td>\n      <td>134900.00</td>\n      <td>Maison</td>\n      <td>0</td>\n      <td>5.0</td>\n    </tr>\n    <tr>\n      <th>2</th>\n      <td>1</td>\n      <td>4.0</td>\n      <td>708.0</td>\n      <td>192000.00</td>\n      <td>Maison</td>\n      <td>0</td>\n      <td>165.0</td>\n    </tr>\n    <tr>\n      <th>3</th>\n      <td>1</td>\n      <td>2.0</td>\n      <td>631.0</td>\n      <td>45000.00</td>\n      <td>Maison</td>\n      <td>0</td>\n      <td>9.0</td>\n    </tr>\n    <tr>\n      <th>4</th>\n      <td>1</td>\n      <td>1.0</td>\n      <td>2103.0</td>\n      <td>116000.00</td>\n      <td>Maison</td>\n      <td>0</td>\n      <td>1724.0</td>\n    </tr>\n  </tbody>\n</table>\n</div>"
     },
     "metadata": {},
     "execution_count": 59
    }
   ],
   "source": [
    "filteredValeurs2019.reset_index(inplace=True, drop=True)\n",
    "filteredValeurs2019.head()"
   ]
  },
  {
   "cell_type": "code",
   "execution_count": 57,
   "metadata": {},
   "outputs": [
    {
     "output_type": "stream",
     "name": "stdout",
     "text": [
      "Nombre de lignes nulles dans la colonne Departement  :  0\n",
      "Nombre de lignes nulles dans la colonne Nombre pieces principales  :  0\n",
      "Nombre de lignes nulles dans la colonne Surface terrain  :  0\n",
      "Nombre de lignes nulles dans la colonne Valeur fonciere  :  0\n",
      "Nombre de lignes nulles dans la colonne Type local  :  0\n",
      "Nombre de lignes nulles dans la colonne Nombre de lots  :  0\n",
      "Nombre de lignes nulles dans la colonne No voie  :  3146\n"
     ]
    }
   ],
   "source": [
    "columns = filteredValeurs2019.columns\n",
    "for index in columns :\n",
    "    nancount = filteredValeurs2019[index].isna()\n",
    "    print(\"Nombre de lignes nulles dans la colonne\", index, \" : \", nancount.sum())"
   ]
  },
  {
   "cell_type": "code",
   "execution_count": 58,
   "metadata": {},
   "outputs": [
    {
     "output_type": "stream",
     "name": "stdout",
     "text": [
      "<class 'pandas.core.frame.DataFrame'>\nInt64Index: 717834 entries, 3 to 2535787\nData columns (total 7 columns):\n #   Column                     Non-Null Count   Dtype  \n---  ------                     --------------   -----  \n 0   Departement                717834 non-null  object \n 1   Nombre pieces principales  717834 non-null  float64\n 2   Surface terrain            717834 non-null  float64\n 3   Valeur fonciere            717834 non-null  object \n 4   Type local                 717834 non-null  object \n 5   Nombre de lots             717834 non-null  int64  \n 6   No voie                    714688 non-null  float64\ndtypes: float64(3), int64(1), object(3)\nmemory usage: 43.8+ MB\n"
     ]
    }
   ],
   "source": [
    "filteredValeurs2019.info()"
   ]
  },
  {
   "cell_type": "code",
   "execution_count": 67,
   "metadata": {},
   "outputs": [
    {
     "output_type": "error",
     "ename": "ValueError",
     "evalue": "Cannot convert non-finite values (NA or inf) to integer",
     "traceback": [
      "\u001b[1;31m---------------------------------------------------------------------------\u001b[0m",
      "\u001b[1;31mValueError\u001b[0m                                Traceback (most recent call last)",
      "\u001b[1;32m<ipython-input-67-ff36c41b96f6>\u001b[0m in \u001b[0;36m<module>\u001b[1;34m\u001b[0m\n\u001b[0;32m      2\u001b[0m \u001b[0mfilteredValeurs2019\u001b[0m\u001b[1;33m[\u001b[0m\u001b[1;34m'Nombre pieces principales'\u001b[0m\u001b[1;33m]\u001b[0m \u001b[1;33m=\u001b[0m \u001b[0mfilteredValeurs2019\u001b[0m\u001b[1;33m[\u001b[0m\u001b[1;34m'Nombre pieces principales'\u001b[0m\u001b[1;33m]\u001b[0m\u001b[1;33m.\u001b[0m\u001b[0mastype\u001b[0m\u001b[1;33m(\u001b[0m\u001b[0mint\u001b[0m\u001b[1;33m)\u001b[0m\u001b[1;33m\u001b[0m\u001b[1;33m\u001b[0m\u001b[0m\n\u001b[0;32m      3\u001b[0m \u001b[0mfilteredValeurs2019\u001b[0m\u001b[1;33m[\u001b[0m\u001b[1;34m'Valeur fonciere'\u001b[0m\u001b[1;33m]\u001b[0m \u001b[1;33m=\u001b[0m \u001b[0mfilteredValeurs2019\u001b[0m\u001b[1;33m[\u001b[0m\u001b[1;34m'Valeur fonciere'\u001b[0m\u001b[1;33m]\u001b[0m\u001b[1;33m.\u001b[0m\u001b[0mastype\u001b[0m\u001b[1;33m(\u001b[0m\u001b[0mfloat\u001b[0m\u001b[1;33m)\u001b[0m\u001b[1;33m\u001b[0m\u001b[1;33m\u001b[0m\u001b[0m\n\u001b[1;32m----> 4\u001b[1;33m \u001b[0mfilteredValeurs2019\u001b[0m\u001b[1;33m[\u001b[0m\u001b[1;34m'No voie'\u001b[0m\u001b[1;33m]\u001b[0m \u001b[1;33m=\u001b[0m \u001b[0mfilteredValeurs2019\u001b[0m\u001b[1;33m[\u001b[0m\u001b[1;34m'No voie'\u001b[0m\u001b[1;33m]\u001b[0m\u001b[1;33m.\u001b[0m\u001b[0mastype\u001b[0m\u001b[1;33m(\u001b[0m\u001b[0mint\u001b[0m\u001b[1;33m)\u001b[0m\u001b[1;33m\u001b[0m\u001b[1;33m\u001b[0m\u001b[0m\n\u001b[0m\u001b[0;32m      5\u001b[0m \u001b[1;33m\u001b[0m\u001b[0m\n\u001b[0;32m      6\u001b[0m \u001b[0mfilteredValeurs2019\u001b[0m\u001b[1;33m.\u001b[0m\u001b[0minfo\u001b[0m\u001b[1;33m(\u001b[0m\u001b[1;33m)\u001b[0m\u001b[1;33m\u001b[0m\u001b[1;33m\u001b[0m\u001b[0m\n",
      "\u001b[1;32m~\\anaconda3\\envs\\data-science\\lib\\site-packages\\pandas\\core\\generic.py\u001b[0m in \u001b[0;36mastype\u001b[1;34m(self, dtype, copy, errors)\u001b[0m\n\u001b[0;32m   5875\u001b[0m         \u001b[1;32melse\u001b[0m\u001b[1;33m:\u001b[0m\u001b[1;33m\u001b[0m\u001b[1;33m\u001b[0m\u001b[0m\n\u001b[0;32m   5876\u001b[0m             \u001b[1;31m# else, only a single dtype is given\u001b[0m\u001b[1;33m\u001b[0m\u001b[1;33m\u001b[0m\u001b[1;33m\u001b[0m\u001b[0m\n\u001b[1;32m-> 5877\u001b[1;33m             \u001b[0mnew_data\u001b[0m \u001b[1;33m=\u001b[0m \u001b[0mself\u001b[0m\u001b[1;33m.\u001b[0m\u001b[0m_mgr\u001b[0m\u001b[1;33m.\u001b[0m\u001b[0mastype\u001b[0m\u001b[1;33m(\u001b[0m\u001b[0mdtype\u001b[0m\u001b[1;33m=\u001b[0m\u001b[0mdtype\u001b[0m\u001b[1;33m,\u001b[0m \u001b[0mcopy\u001b[0m\u001b[1;33m=\u001b[0m\u001b[0mcopy\u001b[0m\u001b[1;33m,\u001b[0m \u001b[0merrors\u001b[0m\u001b[1;33m=\u001b[0m\u001b[0merrors\u001b[0m\u001b[1;33m)\u001b[0m\u001b[1;33m\u001b[0m\u001b[1;33m\u001b[0m\u001b[0m\n\u001b[0m\u001b[0;32m   5878\u001b[0m             \u001b[1;32mreturn\u001b[0m \u001b[0mself\u001b[0m\u001b[1;33m.\u001b[0m\u001b[0m_constructor\u001b[0m\u001b[1;33m(\u001b[0m\u001b[0mnew_data\u001b[0m\u001b[1;33m)\u001b[0m\u001b[1;33m.\u001b[0m\u001b[0m__finalize__\u001b[0m\u001b[1;33m(\u001b[0m\u001b[0mself\u001b[0m\u001b[1;33m,\u001b[0m \u001b[0mmethod\u001b[0m\u001b[1;33m=\u001b[0m\u001b[1;34m\"astype\"\u001b[0m\u001b[1;33m)\u001b[0m\u001b[1;33m\u001b[0m\u001b[1;33m\u001b[0m\u001b[0m\n\u001b[0;32m   5879\u001b[0m \u001b[1;33m\u001b[0m\u001b[0m\n",
      "\u001b[1;32m~\\anaconda3\\envs\\data-science\\lib\\site-packages\\pandas\\core\\internals\\managers.py\u001b[0m in \u001b[0;36mastype\u001b[1;34m(self, dtype, copy, errors)\u001b[0m\n\u001b[0;32m    629\u001b[0m         \u001b[0mself\u001b[0m\u001b[1;33m,\u001b[0m \u001b[0mdtype\u001b[0m\u001b[1;33m,\u001b[0m \u001b[0mcopy\u001b[0m\u001b[1;33m:\u001b[0m \u001b[0mbool\u001b[0m \u001b[1;33m=\u001b[0m \u001b[1;32mFalse\u001b[0m\u001b[1;33m,\u001b[0m \u001b[0merrors\u001b[0m\u001b[1;33m:\u001b[0m \u001b[0mstr\u001b[0m \u001b[1;33m=\u001b[0m \u001b[1;34m\"raise\"\u001b[0m\u001b[1;33m\u001b[0m\u001b[1;33m\u001b[0m\u001b[0m\n\u001b[0;32m    630\u001b[0m     ) -> \"BlockManager\":\n\u001b[1;32m--> 631\u001b[1;33m         \u001b[1;32mreturn\u001b[0m \u001b[0mself\u001b[0m\u001b[1;33m.\u001b[0m\u001b[0mapply\u001b[0m\u001b[1;33m(\u001b[0m\u001b[1;34m\"astype\"\u001b[0m\u001b[1;33m,\u001b[0m \u001b[0mdtype\u001b[0m\u001b[1;33m=\u001b[0m\u001b[0mdtype\u001b[0m\u001b[1;33m,\u001b[0m \u001b[0mcopy\u001b[0m\u001b[1;33m=\u001b[0m\u001b[0mcopy\u001b[0m\u001b[1;33m,\u001b[0m \u001b[0merrors\u001b[0m\u001b[1;33m=\u001b[0m\u001b[0merrors\u001b[0m\u001b[1;33m)\u001b[0m\u001b[1;33m\u001b[0m\u001b[1;33m\u001b[0m\u001b[0m\n\u001b[0m\u001b[0;32m    632\u001b[0m \u001b[1;33m\u001b[0m\u001b[0m\n\u001b[0;32m    633\u001b[0m     def convert(\n",
      "\u001b[1;32m~\\anaconda3\\envs\\data-science\\lib\\site-packages\\pandas\\core\\internals\\managers.py\u001b[0m in \u001b[0;36mapply\u001b[1;34m(self, f, align_keys, ignore_failures, **kwargs)\u001b[0m\n\u001b[0;32m    425\u001b[0m                     \u001b[0mapplied\u001b[0m \u001b[1;33m=\u001b[0m \u001b[0mb\u001b[0m\u001b[1;33m.\u001b[0m\u001b[0mapply\u001b[0m\u001b[1;33m(\u001b[0m\u001b[0mf\u001b[0m\u001b[1;33m,\u001b[0m \u001b[1;33m**\u001b[0m\u001b[0mkwargs\u001b[0m\u001b[1;33m)\u001b[0m\u001b[1;33m\u001b[0m\u001b[1;33m\u001b[0m\u001b[0m\n\u001b[0;32m    426\u001b[0m                 \u001b[1;32melse\u001b[0m\u001b[1;33m:\u001b[0m\u001b[1;33m\u001b[0m\u001b[1;33m\u001b[0m\u001b[0m\n\u001b[1;32m--> 427\u001b[1;33m                     \u001b[0mapplied\u001b[0m \u001b[1;33m=\u001b[0m \u001b[0mgetattr\u001b[0m\u001b[1;33m(\u001b[0m\u001b[0mb\u001b[0m\u001b[1;33m,\u001b[0m \u001b[0mf\u001b[0m\u001b[1;33m)\u001b[0m\u001b[1;33m(\u001b[0m\u001b[1;33m**\u001b[0m\u001b[0mkwargs\u001b[0m\u001b[1;33m)\u001b[0m\u001b[1;33m\u001b[0m\u001b[1;33m\u001b[0m\u001b[0m\n\u001b[0m\u001b[0;32m    428\u001b[0m             \u001b[1;32mexcept\u001b[0m \u001b[1;33m(\u001b[0m\u001b[0mTypeError\u001b[0m\u001b[1;33m,\u001b[0m \u001b[0mNotImplementedError\u001b[0m\u001b[1;33m)\u001b[0m\u001b[1;33m:\u001b[0m\u001b[1;33m\u001b[0m\u001b[1;33m\u001b[0m\u001b[0m\n\u001b[0;32m    429\u001b[0m                 \u001b[1;32mif\u001b[0m \u001b[1;32mnot\u001b[0m \u001b[0mignore_failures\u001b[0m\u001b[1;33m:\u001b[0m\u001b[1;33m\u001b[0m\u001b[1;33m\u001b[0m\u001b[0m\n",
      "\u001b[1;32m~\\anaconda3\\envs\\data-science\\lib\\site-packages\\pandas\\core\\internals\\blocks.py\u001b[0m in \u001b[0;36mastype\u001b[1;34m(self, dtype, copy, errors)\u001b[0m\n\u001b[0;32m    671\u001b[0m             \u001b[0mvals1d\u001b[0m \u001b[1;33m=\u001b[0m \u001b[0mvalues\u001b[0m\u001b[1;33m.\u001b[0m\u001b[0mravel\u001b[0m\u001b[1;33m(\u001b[0m\u001b[1;33m)\u001b[0m\u001b[1;33m\u001b[0m\u001b[1;33m\u001b[0m\u001b[0m\n\u001b[0;32m    672\u001b[0m             \u001b[1;32mtry\u001b[0m\u001b[1;33m:\u001b[0m\u001b[1;33m\u001b[0m\u001b[1;33m\u001b[0m\u001b[0m\n\u001b[1;32m--> 673\u001b[1;33m                 \u001b[0mvalues\u001b[0m \u001b[1;33m=\u001b[0m \u001b[0mastype_nansafe\u001b[0m\u001b[1;33m(\u001b[0m\u001b[0mvals1d\u001b[0m\u001b[1;33m,\u001b[0m \u001b[0mdtype\u001b[0m\u001b[1;33m,\u001b[0m \u001b[0mcopy\u001b[0m\u001b[1;33m=\u001b[0m\u001b[1;32mTrue\u001b[0m\u001b[1;33m)\u001b[0m\u001b[1;33m\u001b[0m\u001b[1;33m\u001b[0m\u001b[0m\n\u001b[0m\u001b[0;32m    674\u001b[0m             \u001b[1;32mexcept\u001b[0m \u001b[1;33m(\u001b[0m\u001b[0mValueError\u001b[0m\u001b[1;33m,\u001b[0m \u001b[0mTypeError\u001b[0m\u001b[1;33m)\u001b[0m\u001b[1;33m:\u001b[0m\u001b[1;33m\u001b[0m\u001b[1;33m\u001b[0m\u001b[0m\n\u001b[0;32m    675\u001b[0m                 \u001b[1;31m# e.g. astype_nansafe can fail on object-dtype of strings\u001b[0m\u001b[1;33m\u001b[0m\u001b[1;33m\u001b[0m\u001b[1;33m\u001b[0m\u001b[0m\n",
      "\u001b[1;32m~\\anaconda3\\envs\\data-science\\lib\\site-packages\\pandas\\core\\dtypes\\cast.py\u001b[0m in \u001b[0;36mastype_nansafe\u001b[1;34m(arr, dtype, copy, skipna)\u001b[0m\n\u001b[0;32m   1066\u001b[0m \u001b[1;33m\u001b[0m\u001b[0m\n\u001b[0;32m   1067\u001b[0m         \u001b[1;32mif\u001b[0m \u001b[1;32mnot\u001b[0m \u001b[0mnp\u001b[0m\u001b[1;33m.\u001b[0m\u001b[0misfinite\u001b[0m\u001b[1;33m(\u001b[0m\u001b[0marr\u001b[0m\u001b[1;33m)\u001b[0m\u001b[1;33m.\u001b[0m\u001b[0mall\u001b[0m\u001b[1;33m(\u001b[0m\u001b[1;33m)\u001b[0m\u001b[1;33m:\u001b[0m\u001b[1;33m\u001b[0m\u001b[1;33m\u001b[0m\u001b[0m\n\u001b[1;32m-> 1068\u001b[1;33m             \u001b[1;32mraise\u001b[0m \u001b[0mValueError\u001b[0m\u001b[1;33m(\u001b[0m\u001b[1;34m\"Cannot convert non-finite values (NA or inf) to integer\"\u001b[0m\u001b[1;33m)\u001b[0m\u001b[1;33m\u001b[0m\u001b[1;33m\u001b[0m\u001b[0m\n\u001b[0m\u001b[0;32m   1069\u001b[0m \u001b[1;33m\u001b[0m\u001b[0m\n\u001b[0;32m   1070\u001b[0m     \u001b[1;32melif\u001b[0m \u001b[0mis_object_dtype\u001b[0m\u001b[1;33m(\u001b[0m\u001b[0marr\u001b[0m\u001b[1;33m)\u001b[0m\u001b[1;33m:\u001b[0m\u001b[1;33m\u001b[0m\u001b[1;33m\u001b[0m\u001b[0m\n",
      "\u001b[1;31mValueError\u001b[0m: Cannot convert non-finite values (NA or inf) to integer"
     ]
    }
   ],
   "source": [
    "filteredValeurs2019['Nombre pieces principales'] = filteredValeurs2019['Nombre pieces principales'].astype(int)\n",
    "filteredValeurs2019['Valeur fonciere'] = filteredValeurs2019['Valeur fonciere'].astype(float)\n",
    "filteredValeurs2019['No voie'] = filteredValeurs2019['No voie'].astype(int)\n",
    "\n",
    "filteredValeurs2019.info()"
   ]
  },
  {
   "cell_type": "code",
   "execution_count": null,
   "metadata": {},
   "outputs": [],
   "source": [
    "filteredValeurs2019.to_csv(cr.CURATED_LOCAL_PATH + 'filteredValeurs2019_V2.csv')"
   ]
  }
 ]
}