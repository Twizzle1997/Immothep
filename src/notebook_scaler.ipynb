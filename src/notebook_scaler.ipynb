{
 "metadata": {
  "language_info": {
   "codemirror_mode": {
    "name": "ipython",
    "version": 3
   },
   "file_extension": ".py",
   "mimetype": "text/x-python",
   "name": "python",
   "nbconvert_exporter": "python",
   "pygments_lexer": "ipython3",
   "version": "3.8.5-final"
  },
  "orig_nbformat": 2,
  "kernelspec": {
   "name": "python3",
   "display_name": "Python 3.8.5 64-bit ('data-ia': conda)",
   "metadata": {
    "interpreter": {
     "hash": "b521198ca28846cc1e62545e6db678c2facd12f800abaadb2702f6952f824412"
    }
   }
  }
 },
 "nbformat": 4,
 "nbformat_minor": 2,
 "cells": [
  {
   "cell_type": "code",
   "execution_count": 72,
   "metadata": {},
   "outputs": [
    {
     "output_type": "stream",
     "name": "stdout",
     "text": [
      "The autoreload extension is already loaded. To reload it, use:\n  %reload_ext autoreload\n"
     ]
    }
   ],
   "source": [
    "%load_ext autoreload\n",
    "%autoreload 2\n",
    "import pandas as pd\n",
    "import numpy as np\n",
    "import seaborn as sn\n",
    "import matplotlib\n",
    "import matplotlib.pyplot as plt\n",
    "from credentials import Credentials as cr\n",
    "import os\n",
    "import requests\n"
   ]
  },
  {
   "cell_type": "code",
   "execution_count": 73,
   "metadata": {},
   "outputs": [
    {
     "output_type": "stream",
     "name": "stderr",
     "text": [
      "C:\\Users\\utilisateur\\anaconda3\\envs\\data-ia\\lib\\site-packages\\IPython\\core\\interactiveshell.py:3145: DtypeWarning: Columns (18,23,24,26,28,29,31,33,41) have mixed types.Specify dtype option on import or set low_memory=False.\n  has_raised = await self.run_ast_nodes(code_ast.body, cell_name,\n"
     ]
    }
   ],
   "source": [
    "valeurs2019 = pd.read_csv(cr.PATH + cr.DATASET_NAME, sep='|',encoding='utf-8')\n"
   ]
  },
  {
   "cell_type": "code",
   "execution_count": 74,
   "metadata": {},
   "outputs": [
    {
     "output_type": "stream",
     "name": "stdout",
     "text": [
      "<class 'pandas.core.frame.DataFrame'>\nRangeIndex: 2535791 entries, 0 to 2535790\nData columns (total 43 columns):\n #   Column                      Dtype  \n---  ------                      -----  \n 0   Code service CH             float64\n 1   Reference document          float64\n 2   1 Articles CGI              float64\n 3   2 Articles CGI              float64\n 4   3 Articles CGI              float64\n 5   4 Articles CGI              float64\n 6   5 Articles CGI              float64\n 7   No disposition              int64  \n 8   Date mutation               object \n 9   Nature mutation             object \n 10  Valeur fonciere             object \n 11  No voie                     float64\n 12  B/T/Q                       object \n 13  Type de voie                object \n 14  Code voie                   object \n 15  Voie                        object \n 16  Code postal                 float64\n 17  Commune                     object \n 18  Code departement            object \n 19  Code commune                int64  \n 20  Prefixe de section          float64\n 21  Section                     object \n 22  No plan                     int64  \n 23  No Volume                   object \n 24  1er lot                     object \n 25  Surface Carrez du 1er lot   object \n 26  2eme lot                    object \n 27  Surface Carrez du 2eme lot  object \n 28  3eme lot                    object \n 29  Surface Carrez du 3eme lot  object \n 30  4eme lot                    float64\n 31  Surface Carrez du 4eme lot  object \n 32  5eme lot                    float64\n 33  Surface Carrez du 5eme lot  object \n 34  Nombre de lots              int64  \n 35  Code type local             float64\n 36  Type local                  object \n 37  Identifiant local           float64\n 38  Surface reelle bati         float64\n 39  Nombre pieces principales   float64\n 40  Nature culture              object \n 41  Nature culture speciale     object \n 42  Surface terrain             float64\ndtypes: float64(17), int64(4), object(22)\nmemory usage: 831.9+ MB\n"
     ]
    }
   ],
   "source": [
    "valeurs2019.info()"
   ]
  },
  {
   "cell_type": "code",
   "execution_count": 75,
   "metadata": {},
   "outputs": [
    {
     "output_type": "stream",
     "name": "stdout",
     "text": [
      "<class 'pandas.core.frame.DataFrame'>\nRangeIndex: 2535791 entries, 0 to 2535790\nData columns (total 43 columns):\n #   Column                      Dtype  \n---  ------                      -----  \n 0   Code service CH             float64\n 1   Reference document          float64\n 2   1 Articles CGI              float64\n 3   2 Articles CGI              float64\n 4   3 Articles CGI              float64\n 5   4 Articles CGI              float64\n 6   5 Articles CGI              float64\n 7   No disposition              int64  \n 8   Date mutation               object \n 9   Nature mutation             object \n 10  Valeur fonciere             float64\n 11  No voie                     float64\n 12  B/T/Q                       object \n 13  Type de voie                object \n 14  Code voie                   object \n 15  Voie                        object \n 16  Code postal                 float64\n 17  Commune                     object \n 18  Code departement            object \n 19  Code commune                int64  \n 20  Prefixe de section          float64\n 21  Section                     object \n 22  No plan                     int64  \n 23  No Volume                   object \n 24  1er lot                     object \n 25  Surface Carrez du 1er lot   object \n 26  2eme lot                    object \n 27  Surface Carrez du 2eme lot  object \n 28  3eme lot                    object \n 29  Surface Carrez du 3eme lot  object \n 30  4eme lot                    float64\n 31  Surface Carrez du 4eme lot  object \n 32  5eme lot                    float64\n 33  Surface Carrez du 5eme lot  object \n 34  Nombre de lots              int64  \n 35  Code type local             float64\n 36  Type local                  object \n 37  Identifiant local           float64\n 38  Surface reelle bati         float64\n 39  Nombre pieces principales   float64\n 40  Nature culture              object \n 41  Nature culture speciale     object \n 42  Surface terrain             float64\ndtypes: float64(18), int64(4), object(21)\nmemory usage: 831.9+ MB\n"
     ]
    }
   ],
   "source": [
    "valeurs2019[\"Valeur fonciere\"].replace(',', '.', regex=True, inplace = True)\n",
    "valeurs2019[\"Valeur fonciere\"] = valeurs2019[\"Valeur fonciere\"].astype(str).astype(float)\n",
    "valeurs2019.info()\n"
   ]
  },
  {
   "cell_type": "code",
   "execution_count": 76,
   "metadata": {},
   "outputs": [
    {
     "output_type": "execute_result",
     "data": {
      "text/plain": [
       "        Code service CH  Reference document  1 Articles CGI  2 Articles CGI  \\\n",
       "count               0.0                 0.0             0.0             0.0   \n",
       "unique              NaN                 NaN             NaN             NaN   \n",
       "top                 NaN                 NaN             NaN             NaN   \n",
       "freq                NaN                 NaN             NaN             NaN   \n",
       "mean                NaN                 NaN             NaN             NaN   \n",
       "std                 NaN                 NaN             NaN             NaN   \n",
       "min                 NaN                 NaN             NaN             NaN   \n",
       "25%                 NaN                 NaN             NaN             NaN   \n",
       "50%                 NaN                 NaN             NaN             NaN   \n",
       "75%                 NaN                 NaN             NaN             NaN   \n",
       "max                 NaN                 NaN             NaN             NaN   \n",
       "\n",
       "        3 Articles CGI  4 Articles CGI  5 Articles CGI  No disposition  \\\n",
       "count              0.0             0.0             0.0    2.535791e+06   \n",
       "unique             NaN             NaN             NaN             NaN   \n",
       "top                NaN             NaN             NaN             NaN   \n",
       "freq               NaN             NaN             NaN             NaN   \n",
       "mean               NaN             NaN             NaN    1.199535e+00   \n",
       "std                NaN             NaN             NaN    7.401537e+00   \n",
       "min                NaN             NaN             NaN    1.000000e+00   \n",
       "25%                NaN             NaN             NaN    1.000000e+00   \n",
       "50%                NaN             NaN             NaN    1.000000e+00   \n",
       "75%                NaN             NaN             NaN    1.000000e+00   \n",
       "max                NaN             NaN             NaN    6.940000e+02   \n",
       "\n",
       "       Date mutation Nature mutation  ...  Surface Carrez du 5eme lot  \\\n",
       "count        2535791         2535791  ...                         609   \n",
       "unique           361               6  ...                         473   \n",
       "top       29/03/2019           Vente  ...                       23,79   \n",
       "freq           22208         2308539  ...                          68   \n",
       "mean             NaN             NaN  ...                         NaN   \n",
       "std              NaN             NaN  ...                         NaN   \n",
       "min              NaN             NaN  ...                         NaN   \n",
       "25%              NaN             NaN  ...                         NaN   \n",
       "50%              NaN             NaN  ...                         NaN   \n",
       "75%              NaN             NaN  ...                         NaN   \n",
       "max              NaN             NaN  ...                         NaN   \n",
       "\n",
       "        Nombre de lots Code type local Type local Identifiant local  \\\n",
       "count     2.535791e+06    1.353332e+06    1353332               0.0   \n",
       "unique             NaN             NaN          4               NaN   \n",
       "top                NaN             NaN     Maison               NaN   \n",
       "freq               NaN             NaN     515398               NaN   \n",
       "mean      3.943330e-01    1.989685e+00        NaN               NaN   \n",
       "std       8.086631e-01    9.438622e-01        NaN               NaN   \n",
       "min       0.000000e+00    1.000000e+00        NaN               NaN   \n",
       "25%       0.000000e+00    1.000000e+00        NaN               NaN   \n",
       "50%       0.000000e+00    2.000000e+00        NaN               NaN   \n",
       "75%       1.000000e+00    3.000000e+00        NaN               NaN   \n",
       "max       1.750000e+02    4.000000e+00        NaN               NaN   \n",
       "\n",
       "       Surface reelle bati  Nombre pieces principales Nature culture  \\\n",
       "count         1.351615e+06               1.351615e+06        1742833   \n",
       "unique                 NaN                        NaN             27   \n",
       "top                    NaN                        NaN              S   \n",
       "freq                   NaN                        NaN         839215   \n",
       "mean          8.775654e+01               2.430351e+00            NaN   \n",
       "std           8.728312e+02               2.083948e+00            NaN   \n",
       "min           0.000000e+00               0.000000e+00            NaN   \n",
       "25%           1.500000e+01               0.000000e+00            NaN   \n",
       "50%           6.000000e+01               3.000000e+00            NaN   \n",
       "75%           9.400000e+01               4.000000e+00            NaN   \n",
       "max           3.129620e+05               6.700000e+01            NaN   \n",
       "\n",
       "        Nature culture speciale  Surface terrain  \n",
       "count                    112853     1.742833e+06  \n",
       "unique                      118              NaN  \n",
       "top                       POTAG              NaN  \n",
       "freq                      27853              NaN  \n",
       "mean                        NaN     3.092533e+03  \n",
       "std                         NaN     1.364341e+04  \n",
       "min                         NaN     0.000000e+00  \n",
       "25%                         NaN     2.330000e+02  \n",
       "50%                         NaN     6.100000e+02  \n",
       "75%                         NaN     1.885000e+03  \n",
       "max                         NaN     1.662560e+06  \n",
       "\n",
       "[11 rows x 43 columns]"
      ],
      "text/html": "<div>\n<style scoped>\n    .dataframe tbody tr th:only-of-type {\n        vertical-align: middle;\n    }\n\n    .dataframe tbody tr th {\n        vertical-align: top;\n    }\n\n    .dataframe thead th {\n        text-align: right;\n    }\n</style>\n<table border=\"1\" class=\"dataframe\">\n  <thead>\n    <tr style=\"text-align: right;\">\n      <th></th>\n      <th>Code service CH</th>\n      <th>Reference document</th>\n      <th>1 Articles CGI</th>\n      <th>2 Articles CGI</th>\n      <th>3 Articles CGI</th>\n      <th>4 Articles CGI</th>\n      <th>5 Articles CGI</th>\n      <th>No disposition</th>\n      <th>Date mutation</th>\n      <th>Nature mutation</th>\n      <th>...</th>\n      <th>Surface Carrez du 5eme lot</th>\n      <th>Nombre de lots</th>\n      <th>Code type local</th>\n      <th>Type local</th>\n      <th>Identifiant local</th>\n      <th>Surface reelle bati</th>\n      <th>Nombre pieces principales</th>\n      <th>Nature culture</th>\n      <th>Nature culture speciale</th>\n      <th>Surface terrain</th>\n    </tr>\n  </thead>\n  <tbody>\n    <tr>\n      <th>count</th>\n      <td>0.0</td>\n      <td>0.0</td>\n      <td>0.0</td>\n      <td>0.0</td>\n      <td>0.0</td>\n      <td>0.0</td>\n      <td>0.0</td>\n      <td>2.535791e+06</td>\n      <td>2535791</td>\n      <td>2535791</td>\n      <td>...</td>\n      <td>609</td>\n      <td>2.535791e+06</td>\n      <td>1.353332e+06</td>\n      <td>1353332</td>\n      <td>0.0</td>\n      <td>1.351615e+06</td>\n      <td>1.351615e+06</td>\n      <td>1742833</td>\n      <td>112853</td>\n      <td>1.742833e+06</td>\n    </tr>\n    <tr>\n      <th>unique</th>\n      <td>NaN</td>\n      <td>NaN</td>\n      <td>NaN</td>\n      <td>NaN</td>\n      <td>NaN</td>\n      <td>NaN</td>\n      <td>NaN</td>\n      <td>NaN</td>\n      <td>361</td>\n      <td>6</td>\n      <td>...</td>\n      <td>473</td>\n      <td>NaN</td>\n      <td>NaN</td>\n      <td>4</td>\n      <td>NaN</td>\n      <td>NaN</td>\n      <td>NaN</td>\n      <td>27</td>\n      <td>118</td>\n      <td>NaN</td>\n    </tr>\n    <tr>\n      <th>top</th>\n      <td>NaN</td>\n      <td>NaN</td>\n      <td>NaN</td>\n      <td>NaN</td>\n      <td>NaN</td>\n      <td>NaN</td>\n      <td>NaN</td>\n      <td>NaN</td>\n      <td>29/03/2019</td>\n      <td>Vente</td>\n      <td>...</td>\n      <td>23,79</td>\n      <td>NaN</td>\n      <td>NaN</td>\n      <td>Maison</td>\n      <td>NaN</td>\n      <td>NaN</td>\n      <td>NaN</td>\n      <td>S</td>\n      <td>POTAG</td>\n      <td>NaN</td>\n    </tr>\n    <tr>\n      <th>freq</th>\n      <td>NaN</td>\n      <td>NaN</td>\n      <td>NaN</td>\n      <td>NaN</td>\n      <td>NaN</td>\n      <td>NaN</td>\n      <td>NaN</td>\n      <td>NaN</td>\n      <td>22208</td>\n      <td>2308539</td>\n      <td>...</td>\n      <td>68</td>\n      <td>NaN</td>\n      <td>NaN</td>\n      <td>515398</td>\n      <td>NaN</td>\n      <td>NaN</td>\n      <td>NaN</td>\n      <td>839215</td>\n      <td>27853</td>\n      <td>NaN</td>\n    </tr>\n    <tr>\n      <th>mean</th>\n      <td>NaN</td>\n      <td>NaN</td>\n      <td>NaN</td>\n      <td>NaN</td>\n      <td>NaN</td>\n      <td>NaN</td>\n      <td>NaN</td>\n      <td>1.199535e+00</td>\n      <td>NaN</td>\n      <td>NaN</td>\n      <td>...</td>\n      <td>NaN</td>\n      <td>3.943330e-01</td>\n      <td>1.989685e+00</td>\n      <td>NaN</td>\n      <td>NaN</td>\n      <td>8.775654e+01</td>\n      <td>2.430351e+00</td>\n      <td>NaN</td>\n      <td>NaN</td>\n      <td>3.092533e+03</td>\n    </tr>\n    <tr>\n      <th>std</th>\n      <td>NaN</td>\n      <td>NaN</td>\n      <td>NaN</td>\n      <td>NaN</td>\n      <td>NaN</td>\n      <td>NaN</td>\n      <td>NaN</td>\n      <td>7.401537e+00</td>\n      <td>NaN</td>\n      <td>NaN</td>\n      <td>...</td>\n      <td>NaN</td>\n      <td>8.086631e-01</td>\n      <td>9.438622e-01</td>\n      <td>NaN</td>\n      <td>NaN</td>\n      <td>8.728312e+02</td>\n      <td>2.083948e+00</td>\n      <td>NaN</td>\n      <td>NaN</td>\n      <td>1.364341e+04</td>\n    </tr>\n    <tr>\n      <th>min</th>\n      <td>NaN</td>\n      <td>NaN</td>\n      <td>NaN</td>\n      <td>NaN</td>\n      <td>NaN</td>\n      <td>NaN</td>\n      <td>NaN</td>\n      <td>1.000000e+00</td>\n      <td>NaN</td>\n      <td>NaN</td>\n      <td>...</td>\n      <td>NaN</td>\n      <td>0.000000e+00</td>\n      <td>1.000000e+00</td>\n      <td>NaN</td>\n      <td>NaN</td>\n      <td>0.000000e+00</td>\n      <td>0.000000e+00</td>\n      <td>NaN</td>\n      <td>NaN</td>\n      <td>0.000000e+00</td>\n    </tr>\n    <tr>\n      <th>25%</th>\n      <td>NaN</td>\n      <td>NaN</td>\n      <td>NaN</td>\n      <td>NaN</td>\n      <td>NaN</td>\n      <td>NaN</td>\n      <td>NaN</td>\n      <td>1.000000e+00</td>\n      <td>NaN</td>\n      <td>NaN</td>\n      <td>...</td>\n      <td>NaN</td>\n      <td>0.000000e+00</td>\n      <td>1.000000e+00</td>\n      <td>NaN</td>\n      <td>NaN</td>\n      <td>1.500000e+01</td>\n      <td>0.000000e+00</td>\n      <td>NaN</td>\n      <td>NaN</td>\n      <td>2.330000e+02</td>\n    </tr>\n    <tr>\n      <th>50%</th>\n      <td>NaN</td>\n      <td>NaN</td>\n      <td>NaN</td>\n      <td>NaN</td>\n      <td>NaN</td>\n      <td>NaN</td>\n      <td>NaN</td>\n      <td>1.000000e+00</td>\n      <td>NaN</td>\n      <td>NaN</td>\n      <td>...</td>\n      <td>NaN</td>\n      <td>0.000000e+00</td>\n      <td>2.000000e+00</td>\n      <td>NaN</td>\n      <td>NaN</td>\n      <td>6.000000e+01</td>\n      <td>3.000000e+00</td>\n      <td>NaN</td>\n      <td>NaN</td>\n      <td>6.100000e+02</td>\n    </tr>\n    <tr>\n      <th>75%</th>\n      <td>NaN</td>\n      <td>NaN</td>\n      <td>NaN</td>\n      <td>NaN</td>\n      <td>NaN</td>\n      <td>NaN</td>\n      <td>NaN</td>\n      <td>1.000000e+00</td>\n      <td>NaN</td>\n      <td>NaN</td>\n      <td>...</td>\n      <td>NaN</td>\n      <td>1.000000e+00</td>\n      <td>3.000000e+00</td>\n      <td>NaN</td>\n      <td>NaN</td>\n      <td>9.400000e+01</td>\n      <td>4.000000e+00</td>\n      <td>NaN</td>\n      <td>NaN</td>\n      <td>1.885000e+03</td>\n    </tr>\n    <tr>\n      <th>max</th>\n      <td>NaN</td>\n      <td>NaN</td>\n      <td>NaN</td>\n      <td>NaN</td>\n      <td>NaN</td>\n      <td>NaN</td>\n      <td>NaN</td>\n      <td>6.940000e+02</td>\n      <td>NaN</td>\n      <td>NaN</td>\n      <td>...</td>\n      <td>NaN</td>\n      <td>1.750000e+02</td>\n      <td>4.000000e+00</td>\n      <td>NaN</td>\n      <td>NaN</td>\n      <td>3.129620e+05</td>\n      <td>6.700000e+01</td>\n      <td>NaN</td>\n      <td>NaN</td>\n      <td>1.662560e+06</td>\n    </tr>\n  </tbody>\n</table>\n<p>11 rows × 43 columns</p>\n</div>"
     },
     "metadata": {},
     "execution_count": 76
    }
   ],
   "source": [
    "valeurs2019.describe(include=\"all\")\n"
   ]
  },
  {
   "cell_type": "code",
   "execution_count": 77,
   "metadata": {},
   "outputs": [
    {
     "output_type": "execute_result",
     "data": {
      "text/plain": [
       "   Code service CH  Reference document  1 Articles CGI  2 Articles CGI  \\\n",
       "0              NaN                 NaN             NaN             NaN   \n",
       "1              NaN                 NaN             NaN             NaN   \n",
       "2              NaN                 NaN             NaN             NaN   \n",
       "3              NaN                 NaN             NaN             NaN   \n",
       "4              NaN                 NaN             NaN             NaN   \n",
       "\n",
       "   3 Articles CGI  4 Articles CGI  5 Articles CGI  No disposition  \\\n",
       "0             NaN             NaN             NaN               1   \n",
       "1             NaN             NaN             NaN               1   \n",
       "2             NaN             NaN             NaN               1   \n",
       "3             NaN             NaN             NaN               1   \n",
       "4             NaN             NaN             NaN               1   \n",
       "\n",
       "  Date mutation Nature mutation  ...  Surface Carrez du 5eme lot  \\\n",
       "0    04/01/2019           Vente  ...                         NaN   \n",
       "1    04/01/2019           Vente  ...                         NaN   \n",
       "2    04/01/2019           Vente  ...                         NaN   \n",
       "3    08/01/2019           Vente  ...                         NaN   \n",
       "4    07/01/2019           Vente  ...                         NaN   \n",
       "\n",
       "   Nombre de lots Code type local   Type local Identifiant local  \\\n",
       "0               1             2.0  Appartement               NaN   \n",
       "1               2             2.0  Appartement               NaN   \n",
       "2               1             3.0   Dépendance               NaN   \n",
       "3               0             1.0       Maison               NaN   \n",
       "4               0             1.0       Maison               NaN   \n",
       "\n",
       "  Surface reelle bati  Nombre pieces principales Nature culture  \\\n",
       "0                20.0                        1.0            NaN   \n",
       "1                62.0                        3.0            NaN   \n",
       "2                 0.0                        0.0            NaN   \n",
       "3                90.0                        4.0              S   \n",
       "4               101.0                        5.0              S   \n",
       "\n",
       "  Nature culture speciale  Surface terrain  \n",
       "0                     NaN              NaN  \n",
       "1                     NaN              NaN  \n",
       "2                     NaN              NaN  \n",
       "3                     NaN            940.0  \n",
       "4                     NaN            490.0  \n",
       "\n",
       "[5 rows x 43 columns]"
      ],
      "text/html": "<div>\n<style scoped>\n    .dataframe tbody tr th:only-of-type {\n        vertical-align: middle;\n    }\n\n    .dataframe tbody tr th {\n        vertical-align: top;\n    }\n\n    .dataframe thead th {\n        text-align: right;\n    }\n</style>\n<table border=\"1\" class=\"dataframe\">\n  <thead>\n    <tr style=\"text-align: right;\">\n      <th></th>\n      <th>Code service CH</th>\n      <th>Reference document</th>\n      <th>1 Articles CGI</th>\n      <th>2 Articles CGI</th>\n      <th>3 Articles CGI</th>\n      <th>4 Articles CGI</th>\n      <th>5 Articles CGI</th>\n      <th>No disposition</th>\n      <th>Date mutation</th>\n      <th>Nature mutation</th>\n      <th>...</th>\n      <th>Surface Carrez du 5eme lot</th>\n      <th>Nombre de lots</th>\n      <th>Code type local</th>\n      <th>Type local</th>\n      <th>Identifiant local</th>\n      <th>Surface reelle bati</th>\n      <th>Nombre pieces principales</th>\n      <th>Nature culture</th>\n      <th>Nature culture speciale</th>\n      <th>Surface terrain</th>\n    </tr>\n  </thead>\n  <tbody>\n    <tr>\n      <th>0</th>\n      <td>NaN</td>\n      <td>NaN</td>\n      <td>NaN</td>\n      <td>NaN</td>\n      <td>NaN</td>\n      <td>NaN</td>\n      <td>NaN</td>\n      <td>1</td>\n      <td>04/01/2019</td>\n      <td>Vente</td>\n      <td>...</td>\n      <td>NaN</td>\n      <td>1</td>\n      <td>2.0</td>\n      <td>Appartement</td>\n      <td>NaN</td>\n      <td>20.0</td>\n      <td>1.0</td>\n      <td>NaN</td>\n      <td>NaN</td>\n      <td>NaN</td>\n    </tr>\n    <tr>\n      <th>1</th>\n      <td>NaN</td>\n      <td>NaN</td>\n      <td>NaN</td>\n      <td>NaN</td>\n      <td>NaN</td>\n      <td>NaN</td>\n      <td>NaN</td>\n      <td>1</td>\n      <td>04/01/2019</td>\n      <td>Vente</td>\n      <td>...</td>\n      <td>NaN</td>\n      <td>2</td>\n      <td>2.0</td>\n      <td>Appartement</td>\n      <td>NaN</td>\n      <td>62.0</td>\n      <td>3.0</td>\n      <td>NaN</td>\n      <td>NaN</td>\n      <td>NaN</td>\n    </tr>\n    <tr>\n      <th>2</th>\n      <td>NaN</td>\n      <td>NaN</td>\n      <td>NaN</td>\n      <td>NaN</td>\n      <td>NaN</td>\n      <td>NaN</td>\n      <td>NaN</td>\n      <td>1</td>\n      <td>04/01/2019</td>\n      <td>Vente</td>\n      <td>...</td>\n      <td>NaN</td>\n      <td>1</td>\n      <td>3.0</td>\n      <td>Dépendance</td>\n      <td>NaN</td>\n      <td>0.0</td>\n      <td>0.0</td>\n      <td>NaN</td>\n      <td>NaN</td>\n      <td>NaN</td>\n    </tr>\n    <tr>\n      <th>3</th>\n      <td>NaN</td>\n      <td>NaN</td>\n      <td>NaN</td>\n      <td>NaN</td>\n      <td>NaN</td>\n      <td>NaN</td>\n      <td>NaN</td>\n      <td>1</td>\n      <td>08/01/2019</td>\n      <td>Vente</td>\n      <td>...</td>\n      <td>NaN</td>\n      <td>0</td>\n      <td>1.0</td>\n      <td>Maison</td>\n      <td>NaN</td>\n      <td>90.0</td>\n      <td>4.0</td>\n      <td>S</td>\n      <td>NaN</td>\n      <td>940.0</td>\n    </tr>\n    <tr>\n      <th>4</th>\n      <td>NaN</td>\n      <td>NaN</td>\n      <td>NaN</td>\n      <td>NaN</td>\n      <td>NaN</td>\n      <td>NaN</td>\n      <td>NaN</td>\n      <td>1</td>\n      <td>07/01/2019</td>\n      <td>Vente</td>\n      <td>...</td>\n      <td>NaN</td>\n      <td>0</td>\n      <td>1.0</td>\n      <td>Maison</td>\n      <td>NaN</td>\n      <td>101.0</td>\n      <td>5.0</td>\n      <td>S</td>\n      <td>NaN</td>\n      <td>490.0</td>\n    </tr>\n  </tbody>\n</table>\n<p>5 rows × 43 columns</p>\n</div>"
     },
     "metadata": {},
     "execution_count": 77
    }
   ],
   "source": [
    "valeurs2019.head()"
   ]
  },
  {
   "cell_type": "code",
   "execution_count": 83,
   "metadata": {},
   "outputs": [],
   "source": [
    "filteredvaleurs2019 = valeurs2019[['Nature mutation', 'Code postal','Nombre pieces principales', 'Surface terrain', 'Surface Carrez du 1er lot', 'Surface Carrez du 2eme lot', 'Surface Carrez du 3eme lot', 'Surface Carrez du 4eme lot', 'Surface Carrez du 5eme lot', 'Valeur fonciere', 'Type local', 'Nombre de lots', 'No voie']]"
   ]
  },
  {
   "cell_type": "code",
   "execution_count": 79,
   "metadata": {},
   "outputs": [
    {
     "output_type": "execute_result",
     "data": {
      "text/plain": [
       "2535791"
      ]
     },
     "metadata": {},
     "execution_count": 79
    }
   ],
   "source": [
    "len(filteredvaleurs2019[\"Code postal\"])"
   ]
  },
  {
   "cell_type": "code",
   "execution_count": 80,
   "metadata": {},
   "outputs": [
    {
     "output_type": "stream",
     "name": "stdout",
     "text": [
      "Nombre de lignes nulles dans  Nature mutation :  0\n",
      "Nombre de lignes nulles dans  Code postal :  28323\n",
      "Nombre de lignes nulles dans  Nombre pieces principales :  1184176\n",
      "Nombre de lignes nulles dans  Surface terrain :  792958\n",
      "Nombre de lignes nulles dans  Surface Carrez du 1er lot :  2314726\n",
      "Nombre de lignes nulles dans  Surface Carrez du 2eme lot :  2481517\n",
      "Nombre de lignes nulles dans  Surface Carrez du 3eme lot :  2530577\n",
      "Nombre de lignes nulles dans  Surface Carrez du 4eme lot :  2534376\n",
      "Nombre de lignes nulles dans  Surface Carrez du 5eme lot :  2535182\n",
      "Nombre de lignes nulles dans  Valeur fonciere :  29261\n",
      "Nombre de lignes nulles dans  Type local :  1182459\n",
      "Nombre de lignes nulles dans  Nombre de lots :  0\n",
      "Nombre de lignes nulles dans  No voie :  1025638\n"
     ]
    }
   ],
   "source": [
    "columns = filteredvaleurs2019.columns\n",
    "for index in columns:\n",
    "    nancount = filteredvaleurs2019[index].isna()\n",
    "    print(\"Nombre de lignes nulles dans \", index , \": \", nancount.sum())"
   ]
  },
  {
   "cell_type": "code",
   "execution_count": 87,
   "metadata": {},
   "outputs": [
    {
     "output_type": "stream",
     "name": "stderr",
     "text": [
      "<ipython-input-87-129e571e3917>:1: SettingWithCopyWarning: \n",
      "A value is trying to be set on a copy of a slice from a DataFrame.\n",
      "Try using .loc[row_indexer,col_indexer] = value instead\n",
      "\n",
      "See the caveats in the documentation: https://pandas.pydata.org/pandas-docs/stable/user_guide/indexing.html#returning-a-view-versus-a-copy\n",
      "  filteredvaleurs2019['Code postal'] = filteredvaleurs2019['Code postal'].astype(str)\n",
      "<ipython-input-87-129e571e3917>:2: SettingWithCopyWarning: \n",
      "A value is trying to be set on a copy of a slice from a DataFrame.\n",
      "Try using .loc[row_indexer,col_indexer] = value instead\n",
      "\n",
      "See the caveats in the documentation: https://pandas.pydata.org/pandas-docs/stable/user_guide/indexing.html#returning-a-view-versus-a-copy\n",
      "  filteredvaleurs2019['Code postal'] = filteredvaleurs2019['Code postal'].dropna()\n",
      "<ipython-input-87-129e571e3917>:3: SettingWithCopyWarning: \n",
      "A value is trying to be set on a copy of a slice from a DataFrame.\n",
      "Try using .loc[row_indexer,col_indexer] = value instead\n",
      "\n",
      "See the caveats in the documentation: https://pandas.pydata.org/pandas-docs/stable/user_guide/indexing.html#returning-a-view-versus-a-copy\n",
      "  filteredvaleurs2019['Departement'] = filteredvaleurs2019['Code postal'].str[:-5]\n"
     ]
    },
    {
     "output_type": "execute_result",
     "data": {
      "text/plain": [
       "0    1\n",
       "1    1\n",
       "2    1\n",
       "3    1\n",
       "4    1\n",
       "Name: Departement, dtype: object"
      ]
     },
     "metadata": {},
     "execution_count": 87
    }
   ],
   "source": [
    "filteredvaleurs2019['Code postal'] = filteredvaleurs2019['Code postal'].astype(str)\n",
    "filteredvaleurs2019['Code postal'] = filteredvaleurs2019['Code postal'].dropna()\n",
    "filteredvaleurs2019['Departement'] = filteredvaleurs2019['Code postal'].str[:-5]\n",
    "filteredvaleurs2019['Departement'].head()\n"
   ]
  },
  {
   "cell_type": "code",
   "execution_count": null,
   "metadata": {},
   "outputs": [],
   "source": []
  }
 ]
}