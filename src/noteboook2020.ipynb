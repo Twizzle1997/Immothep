{
 "cells": [
  {
   "cell_type": "markdown",
   "source": [
    "Notebook de préparation au modèle d'estimation\r\n",
    "\r\n",
    "Nettoyage du dataset de biens immobiliers 2020\r\n",
    "- Retirer les nuls\r\n",
    "- Ploter\r\n",
    "- Valeurs abhérantes\r\n",
    "- Isolation forest\r\n",
    "\r\n",
    "Split du dataset en Départements\r\n",
    "\r\n",
    "Etalonnage d'un modèle de regression linéaire\r\n",
    "\r\n",
    "Test du modèle"
   ],
   "metadata": {}
  },
  {
   "cell_type": "code",
   "execution_count": 2,
   "source": [
    "%load_ext autoreload\r\n",
    "%autoreload 2\r\n",
    "import pandas as pd\r\n",
    "import re\r\n",
    "import numpy as np\r\n",
    "import seaborn as sn\r\n",
    "import sklearn\r\n",
    "import matplotlib.pyplot as plt\r\n",
    "from classes.credentials import Credentials as cr\r\n",
    "from classes.prediction import ImmothepPrediction\r\n",
    "import os\r\n",
    "from classes.split import Splitter\r\n",
    "from sklearn.ensemble import IsolationForest\r\n",
    "\r\n",
    "splitter = Splitter()\r\n",
    "predictor = ImmothepPrediction()"
   ],
   "outputs": [],
   "metadata": {}
  },
  {
   "cell_type": "code",
   "execution_count": 12,
   "source": [
    "valeurs2020 = pd.read_csv(cr.PATH+'2020.txt', sep='|', usecols=['Nature mutation', 'Code postal','Nombre pieces principales', 'Surface terrain', 'Surface Carrez du 1er lot', 'Surface Carrez du 2eme lot', 'Surface Carrez du 3eme lot', 'Surface Carrez du 4eme lot', 'Surface Carrez du 5eme lot', 'Valeur fonciere', 'Type local', 'Nombre de lots', \"Surface reelle bati\"], encoding='utf-8')\r\n",
    "\r\n",
    "valeurs2020 = valeurs2020.dropna(subset = ['Type local', 'Nombre de lots', 'Nombre pieces principales', \"Nature mutation\", \"Code postal\", \"Valeur fonciere\"])\r\n",
    "\r\n",
    "p = re.compile('(appartement|maison){1}\\|{1}[0-9]*(.|,)?[0-9]*\\|{1}[0-9]*(.|,)?[0-9]*\\|{1}[0-9]*(.|,)?[0-9]*\\|{1}[0-9]*(.|,)?[0-9]*\\|{1}[0-9]*(.|,)?[0-9]*')\r\n",
    "\r\n",
    "for line in valeurs2020:\r\n",
    "    print(line)\r\n",
    "    #for ligne in fichier:\r\n",
    "        #print(ligne)\r\n",
    "        #m = p.match(ligne)\r\n",
    "        #print(m)"
   ],
   "outputs": [
    {
     "output_type": "stream",
     "name": "stderr",
     "text": [
      "C:\\Users\\utilisateur\\anaconda3\\envs\\data-ia\\lib\\site-packages\\IPython\\core\\interactiveshell.py:3169: DtypeWarning: Columns (31,33) have mixed types.Specify dtype option on import or set low_memory=False.\n",
      "  has_raised = await self.run_ast_nodes(code_ast.body, cell_name,\n"
     ]
    },
    {
     "output_type": "stream",
     "name": "stdout",
     "text": [
      "Nature mutation\n",
      "Valeur fonciere\n",
      "Code postal\n",
      "Surface Carrez du 1er lot\n",
      "Surface Carrez du 2eme lot\n",
      "Surface Carrez du 3eme lot\n",
      "Surface Carrez du 4eme lot\n",
      "Surface Carrez du 5eme lot\n",
      "Nombre de lots\n",
      "Type local\n",
      "Surface reelle bati\n",
      "Nombre pieces principales\n",
      "Surface terrain\n"
     ]
    }
   ],
   "metadata": {}
  },
  {
   "cell_type": "code",
   "execution_count": 53,
   "source": [
    "valeurs2020['Surface terrain'] = valeurs2020['Surface terrain'].fillna(0) \r\n",
    "\r\n",
    "valeurs2020 = valeurs2020[[\r\n",
    "    'Type local',\r\n",
    "    'Code postal', \r\n",
    "    'Nombre pieces principales', \r\n",
    "    'Surface terrain', \r\n",
    "    'Surface reelle bati',\r\n",
    "    'Valeur fonciere'\r\n",
    "    ]][valeurs2020['Type local'].str.contains(\"Appartement|Maison\", regex=True)][valeurs2020['Nature mutation'].str.contains(\"Vente\", regex=True)][valeurs2020['Nombre de lots']<6][valeurs2020['Nombre pieces principales']>0][valeurs2020['Surface reelle bati']>=8]\r\n",
    "\r\n",
    "valeurs2020.head()"
   ],
   "outputs": [
    {
     "output_type": "stream",
     "name": "stderr",
     "text": [
      "C:\\Users\\UTILIS~1\\AppData\\Local\\Temp/ipykernel_7384/209343670.py:3: UserWarning: Boolean Series key will be reindexed to match DataFrame index.\n",
      "  valeurs2020 = valeurs2020[[\n",
      "C:\\Users\\UTILIS~1\\AppData\\Local\\Temp/ipykernel_7384/209343670.py:3: UserWarning: Boolean Series key will be reindexed to match DataFrame index.\n",
      "  valeurs2020 = valeurs2020[[\n",
      "C:\\Users\\UTILIS~1\\AppData\\Local\\Temp/ipykernel_7384/209343670.py:3: UserWarning: Boolean Series key will be reindexed to match DataFrame index.\n",
      "  valeurs2020 = valeurs2020[[\n",
      "C:\\Users\\UTILIS~1\\AppData\\Local\\Temp/ipykernel_7384/209343670.py:3: UserWarning: Boolean Series key will be reindexed to match DataFrame index.\n",
      "  valeurs2020 = valeurs2020[[\n"
     ]
    },
    {
     "output_type": "execute_result",
     "data": {
      "text/html": [
       "<div>\n",
       "<style scoped>\n",
       "    .dataframe tbody tr th:only-of-type {\n",
       "        vertical-align: middle;\n",
       "    }\n",
       "\n",
       "    .dataframe tbody tr th {\n",
       "        vertical-align: top;\n",
       "    }\n",
       "\n",
       "    .dataframe thead th {\n",
       "        text-align: right;\n",
       "    }\n",
       "</style>\n",
       "<table border=\"1\" class=\"dataframe\">\n",
       "  <thead>\n",
       "    <tr style=\"text-align: right;\">\n",
       "      <th></th>\n",
       "      <th>Type local</th>\n",
       "      <th>Code postal</th>\n",
       "      <th>Nombre pieces principales</th>\n",
       "      <th>Surface terrain</th>\n",
       "      <th>Surface reelle bati</th>\n",
       "      <th>Valeur fonciere</th>\n",
       "    </tr>\n",
       "  </thead>\n",
       "  <tbody>\n",
       "    <tr>\n",
       "      <th>11</th>\n",
       "      <td>Maison</td>\n",
       "      <td>1270.0</td>\n",
       "      <td>2.0</td>\n",
       "      <td>381.0</td>\n",
       "      <td>35.0</td>\n",
       "      <td>72000,00</td>\n",
       "    </tr>\n",
       "    <tr>\n",
       "      <th>13</th>\n",
       "      <td>Maison</td>\n",
       "      <td>1000.0</td>\n",
       "      <td>4.0</td>\n",
       "      <td>525.0</td>\n",
       "      <td>75.0</td>\n",
       "      <td>180300,00</td>\n",
       "    </tr>\n",
       "    <tr>\n",
       "      <th>14</th>\n",
       "      <td>Appartement</td>\n",
       "      <td>1000.0</td>\n",
       "      <td>1.0</td>\n",
       "      <td>0.0</td>\n",
       "      <td>32.0</td>\n",
       "      <td>54800,00</td>\n",
       "    </tr>\n",
       "    <tr>\n",
       "      <th>16</th>\n",
       "      <td>Maison</td>\n",
       "      <td>1000.0</td>\n",
       "      <td>7.0</td>\n",
       "      <td>1267.0</td>\n",
       "      <td>201.0</td>\n",
       "      <td>350750,00</td>\n",
       "    </tr>\n",
       "    <tr>\n",
       "      <th>17</th>\n",
       "      <td>Maison</td>\n",
       "      <td>1000.0</td>\n",
       "      <td>7.0</td>\n",
       "      <td>1497.0</td>\n",
       "      <td>201.0</td>\n",
       "      <td>350750,00</td>\n",
       "    </tr>\n",
       "  </tbody>\n",
       "</table>\n",
       "</div>"
      ],
      "text/plain": [
       "     Type local  Code postal  Nombre pieces principales  Surface terrain  \\\n",
       "11       Maison       1270.0                        2.0            381.0   \n",
       "13       Maison       1000.0                        4.0            525.0   \n",
       "14  Appartement       1000.0                        1.0              0.0   \n",
       "16       Maison       1000.0                        7.0           1267.0   \n",
       "17       Maison       1000.0                        7.0           1497.0   \n",
       "\n",
       "    Surface reelle bati Valeur fonciere  \n",
       "11                 35.0        72000,00  \n",
       "13                 75.0       180300,00  \n",
       "14                 32.0        54800,00  \n",
       "16                201.0       350750,00  \n",
       "17                201.0       350750,00  "
      ]
     },
     "metadata": {},
     "execution_count": 53
    }
   ],
   "metadata": {}
  },
  {
   "cell_type": "code",
   "execution_count": 54,
   "source": [
    "valeurs2020[['Valeur fonciere']] = valeurs2020[['Valeur fonciere']].replace(',', '.', regex=True)\r\n",
    "\r\n",
    "valeurs2020[['Valeur fonciere']].astype('float')"
   ],
   "outputs": [
    {
     "output_type": "execute_result",
     "data": {
      "text/html": [
       "<div>\n",
       "<style scoped>\n",
       "    .dataframe tbody tr th:only-of-type {\n",
       "        vertical-align: middle;\n",
       "    }\n",
       "\n",
       "    .dataframe tbody tr th {\n",
       "        vertical-align: top;\n",
       "    }\n",
       "\n",
       "    .dataframe thead th {\n",
       "        text-align: right;\n",
       "    }\n",
       "</style>\n",
       "<table border=\"1\" class=\"dataframe\">\n",
       "  <thead>\n",
       "    <tr style=\"text-align: right;\">\n",
       "      <th></th>\n",
       "      <th>Valeur fonciere</th>\n",
       "    </tr>\n",
       "  </thead>\n",
       "  <tbody>\n",
       "    <tr>\n",
       "      <th>11</th>\n",
       "      <td>72000.0</td>\n",
       "    </tr>\n",
       "    <tr>\n",
       "      <th>13</th>\n",
       "      <td>180300.0</td>\n",
       "    </tr>\n",
       "    <tr>\n",
       "      <th>14</th>\n",
       "      <td>54800.0</td>\n",
       "    </tr>\n",
       "    <tr>\n",
       "      <th>16</th>\n",
       "      <td>350750.0</td>\n",
       "    </tr>\n",
       "    <tr>\n",
       "      <th>17</th>\n",
       "      <td>350750.0</td>\n",
       "    </tr>\n",
       "    <tr>\n",
       "      <th>...</th>\n",
       "      <td>...</td>\n",
       "    </tr>\n",
       "    <tr>\n",
       "      <th>2459552</th>\n",
       "      <td>1937500.0</td>\n",
       "    </tr>\n",
       "    <tr>\n",
       "      <th>2459553</th>\n",
       "      <td>1937500.0</td>\n",
       "    </tr>\n",
       "    <tr>\n",
       "      <th>2459554</th>\n",
       "      <td>1937500.0</td>\n",
       "    </tr>\n",
       "    <tr>\n",
       "      <th>2459555</th>\n",
       "      <td>1937500.0</td>\n",
       "    </tr>\n",
       "    <tr>\n",
       "      <th>2459557</th>\n",
       "      <td>1937500.0</td>\n",
       "    </tr>\n",
       "  </tbody>\n",
       "</table>\n",
       "<p>915817 rows × 1 columns</p>\n",
       "</div>"
      ],
      "text/plain": [
       "         Valeur fonciere\n",
       "11               72000.0\n",
       "13              180300.0\n",
       "14               54800.0\n",
       "16              350750.0\n",
       "17              350750.0\n",
       "...                  ...\n",
       "2459552        1937500.0\n",
       "2459553        1937500.0\n",
       "2459554        1937500.0\n",
       "2459555        1937500.0\n",
       "2459557        1937500.0\n",
       "\n",
       "[915817 rows x 1 columns]"
      ]
     },
     "metadata": {},
     "execution_count": 54
    }
   ],
   "metadata": {}
  },
  {
   "cell_type": "code",
   "execution_count": 55,
   "source": [
    "valeurs2020.info()"
   ],
   "outputs": [
    {
     "output_type": "stream",
     "name": "stdout",
     "text": [
      "<class 'pandas.core.frame.DataFrame'>\n",
      "Int64Index: 915817 entries, 11 to 2459557\n",
      "Data columns (total 6 columns):\n",
      " #   Column                     Non-Null Count   Dtype  \n",
      "---  ------                     --------------   -----  \n",
      " 0   Type local                 915817 non-null  object \n",
      " 1   Code postal                915817 non-null  float64\n",
      " 2   Nombre pieces principales  915817 non-null  float64\n",
      " 3   Surface terrain            915817 non-null  float64\n",
      " 4   Surface reelle bati        915817 non-null  float64\n",
      " 5   Valeur fonciere            915817 non-null  object \n",
      "dtypes: float64(4), object(2)\n",
      "memory usage: 48.9+ MB\n"
     ]
    }
   ],
   "metadata": {}
  },
  {
   "cell_type": "code",
   "execution_count": 77,
   "source": [
    "nancount = valeurs2020[\"Valeur fonciere\"].isna()\r\n",
    "print (\"Il y a \", nancount.sum(), \" valeurs nulles dans la colonne \\'Valeur Foncière\\'.\")\r\n",
    "valeurs2020 = valeurs2020.dropna(subset = ['Valeur fonciere'])\r\n",
    "nancount = valeurs2020[\"Valeur fonciere\"].isna()\r\n",
    "print (\"Il y a \", nancount.sum(), \" valeurs nulles dans la colonne \\'Valeur Foncière\\'.\")\r\n",
    "\r\n",
    "nancount = valeurs2020[\"Code postal\"].isna()\r\n",
    "print (\"Il y a \", nancount.sum(), \" valeurs nulles dans la colonne \\'Code postal\\'.\")\r\n",
    "valeurs2020 = valeurs2020.dropna(subset = ['Code postal'])\r\n",
    "nancount = valeurs2020[\"Code postal\"].isna()\r\n",
    "print (\"Il y a \", nancount.sum(), \" valeurs nulles dans la colonne \\'Code postal\\'.\")"
   ],
   "outputs": [
    {
     "output_type": "stream",
     "name": "stdout",
     "text": [
      "Il y a  0  valeurs nulles dans la colonne 'Valeur Foncière'.\n",
      "Il y a  0  valeurs nulles dans la colonne 'Valeur Foncière'.\n",
      "Il y a  0  valeurs nulles dans la colonne 'Code postal'.\n",
      "Il y a  0  valeurs nulles dans la colonne 'Code postal'.\n"
     ]
    }
   ],
   "metadata": {}
  },
  {
   "cell_type": "code",
   "execution_count": 63,
   "source": [
    "maisons2020=valeurs2020[valeurs2020['Type local'].str.contains(\"Maison\", regex=True)].reset_index(drop=True)\r\n",
    "\r\n",
    "appart2020=valeurs2020[valeurs2020['Type local'].str.contains(\"Appartement\", regex=True)].reset_index(drop=True)"
   ],
   "outputs": [],
   "metadata": {}
  },
  {
   "cell_type": "code",
   "execution_count": 64,
   "source": [
    "maisons2020.to_csv(cr.CURATED_LOCAL_PATH + 'filteredmaisons2020.csv', index=False)\r\n",
    "appart2020.to_csv(cr.CURATED_LOCAL_PATH + 'filteredappart2020.csv', index=False)"
   ],
   "outputs": [],
   "metadata": {}
  },
  {
   "cell_type": "code",
   "execution_count": 65,
   "source": [
    "maisons2020 = pd.read_csv(cr.CURATED_LOCAL_PATH + 'filteredmaisons2020.csv', sep=\",\")\r\n",
    "appart2020 = pd.read_csv(cr.CURATED_LOCAL_PATH + 'filteredappart2020.csv', sep=\",\")"
   ],
   "outputs": [],
   "metadata": {}
  },
  {
   "cell_type": "code",
   "execution_count": 67,
   "source": [
    "# Split des données par type de logement et par département\r\n",
    "splitter.split_datas('filteredmaisons2020.csv', 'Code postal', 'CPMaisons')\r\n",
    "splitter.split_datas('filteredappart2020.csv', 'Code postal', 'CPAppart')"
   ],
   "outputs": [],
   "metadata": {}
  },
  {
   "cell_type": "code",
   "execution_count": 76,
   "source": [
    "valeursmaisons63 = pd.read_csv(cr.CURATED_LOCAL_PATH + 'CPMaisons/63.csv', sep='|', encoding=\"utf-8\")\r\n",
    "\r\n",
    "model = IsolationForest(valeursmaisons63, n_estimators=50, max_samples='auto', contamination='auto', max_features=1.0, bootstrap=False, n_jobs=None, random_state=None, verbose=0, warm_start=False)\r\n",
    "model.fit(valeursmaisons63[['Valeur fonciere']])"
   ],
   "outputs": [
    {
     "output_type": "stream",
     "name": "stderr",
     "text": [
      "C:\\Users\\utilisateur\\anaconda3\\envs\\data-ia\\lib\\site-packages\\sklearn\\utils\\validation.py:67: FutureWarning: Pass n_estimators=    Type local  Code postal  Nombre pieces principales  Surface terrain  \\\n",
      "0       Maison      63950.0                        3.0            580.0   \n",
      "1       Maison      63950.0                        3.0            400.0   \n",
      "2       Maison      63950.0                        4.0              0.0   \n",
      "3       Maison      63950.0                        2.0           1670.0   \n",
      "4       Maison      63950.0                        2.0            500.0   \n",
      "..         ...          ...                        ...              ...   \n",
      "258     Maison      63200.0                        5.0            922.0   \n",
      "259     Maison      63200.0                        4.0            659.0   \n",
      "260     Maison      63200.0                        5.0            236.0   \n",
      "261     Maison      63200.0                        3.0             60.0   \n",
      "262     Maison      63200.0                        2.0              0.0   \n",
      "\n",
      "     Surface reelle bati  Valeur fonciere  \n",
      "0                   68.0          40000.0  \n",
      "1                   68.0          40000.0  \n",
      "2                  100.0          30000.0  \n",
      "3                   39.0          30000.0  \n",
      "4                   39.0          30000.0  \n",
      "..                   ...              ...  \n",
      "258                117.0         275815.0  \n",
      "259                122.0         327500.0  \n",
      "260                158.0         275000.0  \n",
      "261                 95.0         117550.0  \n",
      "262                 45.0          20000.0  \n",
      "\n",
      "[263 rows x 6 columns] as keyword args. From version 0.25 passing these as positional arguments will result in an error\n",
      "  warnings.warn(\"Pass {} as keyword args. From version 0.25 \"\n"
     ]
    },
    {
     "output_type": "error",
     "ename": "ValueError",
     "evalue": "Input contains NaN, infinity or a value too large for dtype('float64').",
     "traceback": [
      "\u001b[1;31m---------------------------------------------------------------------------\u001b[0m",
      "\u001b[1;31mValueError\u001b[0m                                Traceback (most recent call last)",
      "\u001b[1;32mC:\\Users\\UTILIS~1\\AppData\\Local\\Temp/ipykernel_7384/536653720.py\u001b[0m in \u001b[0;36m<module>\u001b[1;34m\u001b[0m\n\u001b[0;32m      2\u001b[0m \u001b[1;33m\u001b[0m\u001b[0m\n\u001b[0;32m      3\u001b[0m \u001b[0mmodel\u001b[0m \u001b[1;33m=\u001b[0m \u001b[0mIsolationForest\u001b[0m\u001b[1;33m(\u001b[0m\u001b[0mvaleursmaisons63\u001b[0m\u001b[1;33m,\u001b[0m \u001b[0mn_estimators\u001b[0m\u001b[1;33m=\u001b[0m\u001b[1;36m50\u001b[0m\u001b[1;33m,\u001b[0m \u001b[0mmax_samples\u001b[0m\u001b[1;33m=\u001b[0m\u001b[1;34m'auto'\u001b[0m\u001b[1;33m,\u001b[0m \u001b[0mcontamination\u001b[0m\u001b[1;33m=\u001b[0m\u001b[1;34m'auto'\u001b[0m\u001b[1;33m,\u001b[0m \u001b[0mmax_features\u001b[0m\u001b[1;33m=\u001b[0m\u001b[1;36m1.0\u001b[0m\u001b[1;33m,\u001b[0m \u001b[0mbootstrap\u001b[0m\u001b[1;33m=\u001b[0m\u001b[1;32mFalse\u001b[0m\u001b[1;33m,\u001b[0m \u001b[0mn_jobs\u001b[0m\u001b[1;33m=\u001b[0m\u001b[1;32mNone\u001b[0m\u001b[1;33m,\u001b[0m \u001b[0mrandom_state\u001b[0m\u001b[1;33m=\u001b[0m\u001b[1;32mNone\u001b[0m\u001b[1;33m,\u001b[0m \u001b[0mverbose\u001b[0m\u001b[1;33m=\u001b[0m\u001b[1;36m0\u001b[0m\u001b[1;33m,\u001b[0m \u001b[0mwarm_start\u001b[0m\u001b[1;33m=\u001b[0m\u001b[1;32mFalse\u001b[0m\u001b[1;33m)\u001b[0m\u001b[1;33m\u001b[0m\u001b[1;33m\u001b[0m\u001b[0m\n\u001b[1;32m----> 4\u001b[1;33m \u001b[0mmodel\u001b[0m\u001b[1;33m.\u001b[0m\u001b[0mfit\u001b[0m\u001b[1;33m(\u001b[0m\u001b[0mvaleursmaisons63\u001b[0m\u001b[1;33m[\u001b[0m\u001b[1;33m[\u001b[0m\u001b[1;34m'Valeur fonciere'\u001b[0m\u001b[1;33m]\u001b[0m\u001b[1;33m]\u001b[0m\u001b[1;33m)\u001b[0m\u001b[1;33m\u001b[0m\u001b[1;33m\u001b[0m\u001b[0m\n\u001b[0m",
      "\u001b[1;32m~\\anaconda3\\envs\\data-ia\\lib\\site-packages\\sklearn\\ensemble\\_iforest.py\u001b[0m in \u001b[0;36mfit\u001b[1;34m(self, X, y, sample_weight)\u001b[0m\n\u001b[0;32m    261\u001b[0m                 )\n\u001b[0;32m    262\u001b[0m \u001b[1;33m\u001b[0m\u001b[0m\n\u001b[1;32m--> 263\u001b[1;33m         \u001b[0mX\u001b[0m \u001b[1;33m=\u001b[0m \u001b[0mcheck_array\u001b[0m\u001b[1;33m(\u001b[0m\u001b[0mX\u001b[0m\u001b[1;33m,\u001b[0m \u001b[0maccept_sparse\u001b[0m\u001b[1;33m=\u001b[0m\u001b[1;33m[\u001b[0m\u001b[1;34m'csc'\u001b[0m\u001b[1;33m]\u001b[0m\u001b[1;33m)\u001b[0m\u001b[1;33m\u001b[0m\u001b[1;33m\u001b[0m\u001b[0m\n\u001b[0m\u001b[0;32m    264\u001b[0m         \u001b[1;32mif\u001b[0m \u001b[0missparse\u001b[0m\u001b[1;33m(\u001b[0m\u001b[0mX\u001b[0m\u001b[1;33m)\u001b[0m\u001b[1;33m:\u001b[0m\u001b[1;33m\u001b[0m\u001b[1;33m\u001b[0m\u001b[0m\n\u001b[0;32m    265\u001b[0m             \u001b[1;31m# Pre-sort indices to avoid that each individual tree of the\u001b[0m\u001b[1;33m\u001b[0m\u001b[1;33m\u001b[0m\u001b[1;33m\u001b[0m\u001b[0m\n",
      "\u001b[1;32m~\\anaconda3\\envs\\data-ia\\lib\\site-packages\\sklearn\\utils\\validation.py\u001b[0m in \u001b[0;36minner_f\u001b[1;34m(*args, **kwargs)\u001b[0m\n\u001b[0;32m     70\u001b[0m                           FutureWarning)\n\u001b[0;32m     71\u001b[0m         \u001b[0mkwargs\u001b[0m\u001b[1;33m.\u001b[0m\u001b[0mupdate\u001b[0m\u001b[1;33m(\u001b[0m\u001b[1;33m{\u001b[0m\u001b[0mk\u001b[0m\u001b[1;33m:\u001b[0m \u001b[0marg\u001b[0m \u001b[1;32mfor\u001b[0m \u001b[0mk\u001b[0m\u001b[1;33m,\u001b[0m \u001b[0marg\u001b[0m \u001b[1;32min\u001b[0m \u001b[0mzip\u001b[0m\u001b[1;33m(\u001b[0m\u001b[0msig\u001b[0m\u001b[1;33m.\u001b[0m\u001b[0mparameters\u001b[0m\u001b[1;33m,\u001b[0m \u001b[0margs\u001b[0m\u001b[1;33m)\u001b[0m\u001b[1;33m}\u001b[0m\u001b[1;33m)\u001b[0m\u001b[1;33m\u001b[0m\u001b[1;33m\u001b[0m\u001b[0m\n\u001b[1;32m---> 72\u001b[1;33m         \u001b[1;32mreturn\u001b[0m \u001b[0mf\u001b[0m\u001b[1;33m(\u001b[0m\u001b[1;33m**\u001b[0m\u001b[0mkwargs\u001b[0m\u001b[1;33m)\u001b[0m\u001b[1;33m\u001b[0m\u001b[1;33m\u001b[0m\u001b[0m\n\u001b[0m\u001b[0;32m     73\u001b[0m     \u001b[1;32mreturn\u001b[0m \u001b[0minner_f\u001b[0m\u001b[1;33m\u001b[0m\u001b[1;33m\u001b[0m\u001b[0m\n\u001b[0;32m     74\u001b[0m \u001b[1;33m\u001b[0m\u001b[0m\n",
      "\u001b[1;32m~\\anaconda3\\envs\\data-ia\\lib\\site-packages\\sklearn\\utils\\validation.py\u001b[0m in \u001b[0;36mcheck_array\u001b[1;34m(array, accept_sparse, accept_large_sparse, dtype, order, copy, force_all_finite, ensure_2d, allow_nd, ensure_min_samples, ensure_min_features, estimator)\u001b[0m\n\u001b[0;32m    642\u001b[0m \u001b[1;33m\u001b[0m\u001b[0m\n\u001b[0;32m    643\u001b[0m         \u001b[1;32mif\u001b[0m \u001b[0mforce_all_finite\u001b[0m\u001b[1;33m:\u001b[0m\u001b[1;33m\u001b[0m\u001b[1;33m\u001b[0m\u001b[0m\n\u001b[1;32m--> 644\u001b[1;33m             _assert_all_finite(array,\n\u001b[0m\u001b[0;32m    645\u001b[0m                                allow_nan=force_all_finite == 'allow-nan')\n\u001b[0;32m    646\u001b[0m \u001b[1;33m\u001b[0m\u001b[0m\n",
      "\u001b[1;32m~\\anaconda3\\envs\\data-ia\\lib\\site-packages\\sklearn\\utils\\validation.py\u001b[0m in \u001b[0;36m_assert_all_finite\u001b[1;34m(X, allow_nan, msg_dtype)\u001b[0m\n\u001b[0;32m     94\u001b[0m                 not allow_nan and not np.isfinite(X).all()):\n\u001b[0;32m     95\u001b[0m             \u001b[0mtype_err\u001b[0m \u001b[1;33m=\u001b[0m \u001b[1;34m'infinity'\u001b[0m \u001b[1;32mif\u001b[0m \u001b[0mallow_nan\u001b[0m \u001b[1;32melse\u001b[0m \u001b[1;34m'NaN, infinity'\u001b[0m\u001b[1;33m\u001b[0m\u001b[1;33m\u001b[0m\u001b[0m\n\u001b[1;32m---> 96\u001b[1;33m             raise ValueError(\n\u001b[0m\u001b[0;32m     97\u001b[0m                     \u001b[0mmsg_err\u001b[0m\u001b[1;33m.\u001b[0m\u001b[0mformat\u001b[0m\u001b[1;33m\u001b[0m\u001b[1;33m\u001b[0m\u001b[0m\n\u001b[0;32m     98\u001b[0m                     (type_err,\n",
      "\u001b[1;31mValueError\u001b[0m: Input contains NaN, infinity or a value too large for dtype('float64')."
     ]
    }
   ],
   "metadata": {}
  }
 ],
 "metadata": {
  "orig_nbformat": 4,
  "language_info": {
   "name": "python",
   "version": "3.8.5",
   "mimetype": "text/x-python",
   "codemirror_mode": {
    "name": "ipython",
    "version": 3
   },
   "pygments_lexer": "ipython3",
   "nbconvert_exporter": "python",
   "file_extension": ".py"
  },
  "kernelspec": {
   "name": "python3",
   "display_name": "Python 3.8.5 64-bit ('data-ia': conda)"
  },
  "interpreter": {
   "hash": "b521198ca28846cc1e62545e6db678c2facd12f800abaadb2702f6952f824412"
  }
 },
 "nbformat": 4,
 "nbformat_minor": 2
}