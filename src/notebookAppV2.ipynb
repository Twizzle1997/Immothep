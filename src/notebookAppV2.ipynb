{
 "cells": [
  {
   "cell_type": "markdown",
   "source": [
    "# Notebook de préparation au modèle d'estimation"
   ],
   "metadata": {}
  },
  {
   "cell_type": "markdown",
   "source": [
    "## Imports et paramètrage"
   ],
   "metadata": {}
  },
  {
   "cell_type": "code",
   "execution_count": 1,
   "source": [
    "%load_ext autoreload\r\n",
    "%autoreload 2\r\n",
    "import pandas as pd\r\n",
    "import seaborn as sns\r\n",
    "#import numpy as np\r\n",
    "import matplotlib.pyplot as plt\r\n",
    "from classes.credentials import Credentials as cr\r\n",
    "from classes.prediction import ImmothepPrediction\r\n",
    "from classes.split import Splitter\r\n",
    "from classes.isolation_forest import IsolationForestClass\r\n",
    "\r\n",
    "splitter = Splitter()\r\n",
    "isolation = IsolationForestClass()"
   ],
   "outputs": [],
   "metadata": {}
  },
  {
   "cell_type": "code",
   "execution_count": 2,
   "source": [
    "valeurs2020 = pd.read_csv(cr.PATH+'2020.txt', sep='|', usecols=['Nature mutation', 'Code postal','Nombre pieces principales', 'Surface terrain', 'Valeur fonciere', 'Type local', 'Nombre de lots', 'Surface reelle bati'], encoding='utf-8')"
   ],
   "outputs": [],
   "metadata": {}
  },
  {
   "cell_type": "markdown",
   "source": [
    "## Nettoyage du dataset de biens immobiliers 2020\r\n",
    "- Retirer les nuls\r\n",
    "- Ploter\r\n",
    "- Isolation forest"
   ],
   "metadata": {}
  },
  {
   "cell_type": "code",
   "execution_count": 3,
   "source": [
    "# Drop les lignes avec des nulles : type local, nombre lots, nb pièces, nature mutation, valeur foncière et CP\r\n",
    "valeurs2020 = valeurs2020.dropna(subset = ['Type local', 'Nombre de lots', 'Nombre pieces principales', \"Nature mutation\", 'Valeur fonciere', 'Code postal'])\r\n",
    "\r\n",
    "# On remplace les null de la surface de terrain par 0\r\n",
    "valeurs2020['Surface terrain'] = valeurs2020['Surface terrain'].fillna(0) \r\n",
    "\r\n",
    "valeurs2020.head()"
   ],
   "outputs": [
    {
     "output_type": "execute_result",
     "data": {
      "text/html": [
       "<div>\n",
       "<style scoped>\n",
       "    .dataframe tbody tr th:only-of-type {\n",
       "        vertical-align: middle;\n",
       "    }\n",
       "\n",
       "    .dataframe tbody tr th {\n",
       "        vertical-align: top;\n",
       "    }\n",
       "\n",
       "    .dataframe thead th {\n",
       "        text-align: right;\n",
       "    }\n",
       "</style>\n",
       "<table border=\"1\" class=\"dataframe\">\n",
       "  <thead>\n",
       "    <tr style=\"text-align: right;\">\n",
       "      <th></th>\n",
       "      <th>Nature mutation</th>\n",
       "      <th>Valeur fonciere</th>\n",
       "      <th>Code postal</th>\n",
       "      <th>Nombre de lots</th>\n",
       "      <th>Type local</th>\n",
       "      <th>Surface reelle bati</th>\n",
       "      <th>Nombre pieces principales</th>\n",
       "      <th>Surface terrain</th>\n",
       "    </tr>\n",
       "  </thead>\n",
       "  <tbody>\n",
       "    <tr>\n",
       "      <th>11</th>\n",
       "      <td>Vente</td>\n",
       "      <td>72000,00</td>\n",
       "      <td>1270.0</td>\n",
       "      <td>0</td>\n",
       "      <td>Maison</td>\n",
       "      <td>35.0</td>\n",
       "      <td>2.0</td>\n",
       "      <td>381.0</td>\n",
       "    </tr>\n",
       "    <tr>\n",
       "      <th>13</th>\n",
       "      <td>Vente</td>\n",
       "      <td>180300,00</td>\n",
       "      <td>1000.0</td>\n",
       "      <td>0</td>\n",
       "      <td>Maison</td>\n",
       "      <td>75.0</td>\n",
       "      <td>4.0</td>\n",
       "      <td>525.0</td>\n",
       "    </tr>\n",
       "    <tr>\n",
       "      <th>14</th>\n",
       "      <td>Vente</td>\n",
       "      <td>54800,00</td>\n",
       "      <td>1000.0</td>\n",
       "      <td>2</td>\n",
       "      <td>Appartement</td>\n",
       "      <td>32.0</td>\n",
       "      <td>1.0</td>\n",
       "      <td>0.0</td>\n",
       "    </tr>\n",
       "    <tr>\n",
       "      <th>16</th>\n",
       "      <td>Vente</td>\n",
       "      <td>350750,00</td>\n",
       "      <td>1000.0</td>\n",
       "      <td>0</td>\n",
       "      <td>Maison</td>\n",
       "      <td>201.0</td>\n",
       "      <td>7.0</td>\n",
       "      <td>1267.0</td>\n",
       "    </tr>\n",
       "    <tr>\n",
       "      <th>17</th>\n",
       "      <td>Vente</td>\n",
       "      <td>350750,00</td>\n",
       "      <td>1000.0</td>\n",
       "      <td>0</td>\n",
       "      <td>Maison</td>\n",
       "      <td>201.0</td>\n",
       "      <td>7.0</td>\n",
       "      <td>1497.0</td>\n",
       "    </tr>\n",
       "  </tbody>\n",
       "</table>\n",
       "</div>"
      ],
      "text/plain": [
       "   Nature mutation Valeur fonciere  Code postal  Nombre de lots   Type local  \\\n",
       "11           Vente        72000,00       1270.0               0       Maison   \n",
       "13           Vente       180300,00       1000.0               0       Maison   \n",
       "14           Vente        54800,00       1000.0               2  Appartement   \n",
       "16           Vente       350750,00       1000.0               0       Maison   \n",
       "17           Vente       350750,00       1000.0               0       Maison   \n",
       "\n",
       "    Surface reelle bati  Nombre pieces principales  Surface terrain  \n",
       "11                 35.0                        2.0            381.0  \n",
       "13                 75.0                        4.0            525.0  \n",
       "14                 32.0                        1.0              0.0  \n",
       "16                201.0                        7.0           1267.0  \n",
       "17                201.0                        7.0           1497.0  "
      ]
     },
     "metadata": {},
     "execution_count": 3
    }
   ],
   "metadata": {}
  },
  {
   "cell_type": "code",
   "execution_count": 4,
   "source": [
    "# Premier tri, on garde les appartements et maisons, les ventes, un nombre de pièces principales supérieur à 0, \r\n",
    "# un nombre de lots inférieur à 6, surface réelle bâtie supérieure à 8 (minimum légal)\r\n",
    "valeurs2020 = valeurs2020[[\r\n",
    "    'Type local',\r\n",
    "    'Code postal', \r\n",
    "    'Nombre pieces principales', \r\n",
    "    'Surface terrain', \r\n",
    "    'Surface reelle bati',\r\n",
    "    'Valeur fonciere'\r\n",
    "    ]][valeurs2020['Type local'].str.contains(\"Appartement|Maison\", regex=True)][valeurs2020['Nature mutation'].str.contains(\"Vente\", regex=True)][valeurs2020['Nombre de lots']<6][valeurs2020['Nombre pieces principales']>0][valeurs2020['Surface reelle bati']>=8]\r\n"
   ],
   "outputs": [
    {
     "output_type": "stream",
     "name": "stderr",
     "text": [
      "C:\\Users\\audre\\AppData\\Local\\Temp/ipykernel_22348/2911758537.py:3: UserWarning: Boolean Series key will be reindexed to match DataFrame index.\n",
      "  valeurs2020 = valeurs2020[[\n"
     ]
    }
   ],
   "metadata": {}
  },
  {
   "cell_type": "code",
   "execution_count": 5,
   "source": [
    "valeurs2020.info()"
   ],
   "outputs": [
    {
     "output_type": "stream",
     "name": "stdout",
     "text": [
      "<class 'pandas.core.frame.DataFrame'>\n",
      "Int64Index: 915817 entries, 11 to 2459557\n",
      "Data columns (total 6 columns):\n",
      " #   Column                     Non-Null Count   Dtype  \n",
      "---  ------                     --------------   -----  \n",
      " 0   Type local                 915817 non-null  object \n",
      " 1   Code postal                915817 non-null  float64\n",
      " 2   Nombre pieces principales  915817 non-null  float64\n",
      " 3   Surface terrain            915817 non-null  float64\n",
      " 4   Surface reelle bati        915817 non-null  float64\n",
      " 5   Valeur fonciere            915817 non-null  object \n",
      "dtypes: float64(4), object(2)\n",
      "memory usage: 48.9+ MB\n"
     ]
    }
   ],
   "metadata": {}
  },
  {
   "cell_type": "code",
   "execution_count": 6,
   "source": [
    "# Changement des virgules en points\r\n",
    "valeurs2020[['Valeur fonciere']] = valeurs2020[['Valeur fonciere']].replace(',', '.', regex=True)\r\n",
    "\r\n",
    "# Passage des objets en floats\r\n",
    "valeurs2020[['Valeur fonciere']]  = valeurs2020[['Valeur fonciere']].astype('float')\r\n",
    "\r\n",
    "valeurs2020.info()"
   ],
   "outputs": [
    {
     "output_type": "stream",
     "name": "stdout",
     "text": [
      "<class 'pandas.core.frame.DataFrame'>\n",
      "Int64Index: 915817 entries, 11 to 2459557\n",
      "Data columns (total 6 columns):\n",
      " #   Column                     Non-Null Count   Dtype  \n",
      "---  ------                     --------------   -----  \n",
      " 0   Type local                 915817 non-null  object \n",
      " 1   Code postal                915817 non-null  float64\n",
      " 2   Nombre pieces principales  915817 non-null  float64\n",
      " 3   Surface terrain            915817 non-null  float64\n",
      " 4   Surface reelle bati        915817 non-null  float64\n",
      " 5   Valeur fonciere            915817 non-null  float64\n",
      "dtypes: float64(5), object(1)\n",
      "memory usage: 48.9+ MB\n"
     ]
    }
   ],
   "metadata": {}
  },
  {
   "cell_type": "code",
   "execution_count": 7,
   "source": [
    "# Séparation des maisons et appartements\r\n",
    "valeursMaisons = valeurs2020[valeurs2020['Type local'].str.contains(\"Maison\", regex=True)]\r\n",
    "valeursApparts = valeurs2020[valeurs2020['Type local'].str.contains(\"Appartement\", regex=True)]"
   ],
   "outputs": [],
   "metadata": {}
  },
  {
   "cell_type": "code",
   "execution_count": 8,
   "source": [
    "nancount = valeursMaisons.isna()\r\n",
    "print (nancount.sum())\r\n",
    "# valeurs2020 = valeurs2020.dropna(subset = ['Valeur fonciere'])\r\n",
    "# nancount = valeurs2020[\"Valeur fonciere\"].isna()"
   ],
   "outputs": [
    {
     "output_type": "stream",
     "name": "stdout",
     "text": [
      "Type local                   0\n",
      "Code postal                  0\n",
      "Nombre pieces principales    0\n",
      "Surface terrain              0\n",
      "Surface reelle bati          0\n",
      "Valeur fonciere              0\n",
      "dtype: int64\n"
     ]
    }
   ],
   "metadata": {}
  },
  {
   "cell_type": "code",
   "execution_count": 9,
   "source": [
    "# Import en CSV dans src/data/currated\r\n",
    "valeursMaisons.to_csv(cr.CURATED_LOCAL_PATH + 'filtreMaisons2020.csv', index=False)\r\n",
    "valeursApparts.to_csv(cr.CURATED_LOCAL_PATH + 'filtreAppart2020.csv', index=False)"
   ],
   "outputs": [],
   "metadata": {}
  },
  {
   "cell_type": "markdown",
   "source": [
    "## Split du dataset en départements"
   ],
   "metadata": {}
  },
  {
   "cell_type": "code",
   "execution_count": 10,
   "source": [
    "# Split des données par type de logement et par département\r\n",
    "splitter.split_datas('filtreMaisons2020.csv', 'Code postal', 'CPMaisons')\r\n",
    "splitter.split_datas('filtreAppart2020.csv', 'Code postal', 'CPAppart')"
   ],
   "outputs": [],
   "metadata": {}
  },
  {
   "cell_type": "markdown",
   "source": [
    "## Test de l'isolation forest sur le dataset du puy-de-dome"
   ],
   "metadata": {}
  },
  {
   "cell_type": "code",
   "execution_count": 11,
   "source": [
    "valeursMaisons63 = pd.read_csv(cr.CURATED_LOCAL_PATH + '/CPMaisons/63.csv', sep='|', encoding='utf-8')\r\n",
    "valeursMaisons63.head()"
   ],
   "outputs": [
    {
     "output_type": "execute_result",
     "data": {
      "text/html": [
       "<div>\n",
       "<style scoped>\n",
       "    .dataframe tbody tr th:only-of-type {\n",
       "        vertical-align: middle;\n",
       "    }\n",
       "\n",
       "    .dataframe tbody tr th {\n",
       "        vertical-align: top;\n",
       "    }\n",
       "\n",
       "    .dataframe thead th {\n",
       "        text-align: right;\n",
       "    }\n",
       "</style>\n",
       "<table border=\"1\" class=\"dataframe\">\n",
       "  <thead>\n",
       "    <tr style=\"text-align: right;\">\n",
       "      <th></th>\n",
       "      <th>Type local</th>\n",
       "      <th>Code postal</th>\n",
       "      <th>Nombre pieces principales</th>\n",
       "      <th>Surface terrain</th>\n",
       "      <th>Surface reelle bati</th>\n",
       "      <th>Valeur fonciere</th>\n",
       "    </tr>\n",
       "  </thead>\n",
       "  <tbody>\n",
       "    <tr>\n",
       "      <th>0</th>\n",
       "      <td>Maison</td>\n",
       "      <td>63950.0</td>\n",
       "      <td>3.0</td>\n",
       "      <td>580.0</td>\n",
       "      <td>68.0</td>\n",
       "      <td>40000.0</td>\n",
       "    </tr>\n",
       "    <tr>\n",
       "      <th>1</th>\n",
       "      <td>Maison</td>\n",
       "      <td>63950.0</td>\n",
       "      <td>3.0</td>\n",
       "      <td>400.0</td>\n",
       "      <td>68.0</td>\n",
       "      <td>40000.0</td>\n",
       "    </tr>\n",
       "    <tr>\n",
       "      <th>2</th>\n",
       "      <td>Maison</td>\n",
       "      <td>63950.0</td>\n",
       "      <td>4.0</td>\n",
       "      <td>0.0</td>\n",
       "      <td>100.0</td>\n",
       "      <td>30000.0</td>\n",
       "    </tr>\n",
       "    <tr>\n",
       "      <th>3</th>\n",
       "      <td>Maison</td>\n",
       "      <td>63950.0</td>\n",
       "      <td>2.0</td>\n",
       "      <td>1670.0</td>\n",
       "      <td>39.0</td>\n",
       "      <td>30000.0</td>\n",
       "    </tr>\n",
       "    <tr>\n",
       "      <th>4</th>\n",
       "      <td>Maison</td>\n",
       "      <td>63950.0</td>\n",
       "      <td>2.0</td>\n",
       "      <td>500.0</td>\n",
       "      <td>39.0</td>\n",
       "      <td>30000.0</td>\n",
       "    </tr>\n",
       "  </tbody>\n",
       "</table>\n",
       "</div>"
      ],
      "text/plain": [
       "  Type local  Code postal  Nombre pieces principales  Surface terrain  \\\n",
       "0     Maison      63950.0                        3.0            580.0   \n",
       "1     Maison      63950.0                        3.0            400.0   \n",
       "2     Maison      63950.0                        4.0              0.0   \n",
       "3     Maison      63950.0                        2.0           1670.0   \n",
       "4     Maison      63950.0                        2.0            500.0   \n",
       "\n",
       "   Surface reelle bati  Valeur fonciere  \n",
       "0                 68.0          40000.0  \n",
       "1                 68.0          40000.0  \n",
       "2                100.0          30000.0  \n",
       "3                 39.0          30000.0  \n",
       "4                 39.0          30000.0  "
      ]
     },
     "metadata": {},
     "execution_count": 11
    }
   ],
   "metadata": {}
  },
  {
   "cell_type": "code",
   "execution_count": 12,
   "source": [
    "isolation.isolation_forest_testing(cr.CURATED_LOCAL_PATH + '/CPMaisons/63.csv', cr.CURATED_LOCAL_PATH + '/CPMaisons/63_IF.csv')"
   ],
   "outputs": [
    {
     "output_type": "stream",
     "name": "stdout",
     "text": [
      "   Type local  Code postal  Nombre pieces principales  Surface terrain  \\\n",
      "0      Maison      63950.0                        3.0            580.0   \n",
      "1      Maison      63950.0                        3.0            400.0   \n",
      "2      Maison      63950.0                        4.0              0.0   \n",
      "3      Maison      63950.0                        2.0           1670.0   \n",
      "4      Maison      63950.0                        2.0            500.0   \n",
      "5      Maison      63950.0                        3.0            600.0   \n",
      "6      Maison      63950.0                        3.0            530.0   \n",
      "7      Maison      63950.0                        3.0            490.0   \n",
      "8      Maison      63950.0                        4.0            710.0   \n",
      "10     Maison      63580.0                        3.0            500.0   \n",
      "\n",
      "    Surface reelle bati  Valeur fonciere    scores  anomaly  \n",
      "0                  68.0          40000.0  0.022529        1  \n",
      "1                  68.0          40000.0  0.024163        1  \n",
      "2                 100.0          30000.0  0.021922        1  \n",
      "3                  39.0          30000.0 -0.062316       -1  \n",
      "4                  39.0          30000.0 -0.030907       -1  \n",
      "5                  63.0          64000.0  0.029242        1  \n",
      "6                  99.0          74000.0  0.045125        1  \n",
      "7                  99.0          74000.0  0.043387        1  \n",
      "8                  80.0          50000.0  0.037809        1  \n",
      "10                 96.0          30000.0  0.030762        1  \n"
     ]
    }
   ],
   "metadata": {}
  },
  {
   "cell_type": "code",
   "execution_count": 13,
   "source": [
    "# Import du CSV avec le score de l'IF\r\n",
    "valeursMaisons63_if = pd.read_csv(cr.CURATED_LOCAL_PATH + '/CPMaisons/63_IF.csv', usecols=['Type local', 'Nombre pieces principales', 'Surface terrain', 'Surface reelle bati', 'Valeur fonciere', 'scores', 'anomaly'])\r\n",
    "valeursMaisons63_if.head()"
   ],
   "outputs": [
    {
     "output_type": "execute_result",
     "data": {
      "text/html": [
       "<div>\n",
       "<style scoped>\n",
       "    .dataframe tbody tr th:only-of-type {\n",
       "        vertical-align: middle;\n",
       "    }\n",
       "\n",
       "    .dataframe tbody tr th {\n",
       "        vertical-align: top;\n",
       "    }\n",
       "\n",
       "    .dataframe thead th {\n",
       "        text-align: right;\n",
       "    }\n",
       "</style>\n",
       "<table border=\"1\" class=\"dataframe\">\n",
       "  <thead>\n",
       "    <tr style=\"text-align: right;\">\n",
       "      <th></th>\n",
       "      <th>Type local</th>\n",
       "      <th>Nombre pieces principales</th>\n",
       "      <th>Surface terrain</th>\n",
       "      <th>Surface reelle bati</th>\n",
       "      <th>Valeur fonciere</th>\n",
       "      <th>scores</th>\n",
       "      <th>anomaly</th>\n",
       "    </tr>\n",
       "  </thead>\n",
       "  <tbody>\n",
       "    <tr>\n",
       "      <th>0</th>\n",
       "      <td>Maison</td>\n",
       "      <td>3.0</td>\n",
       "      <td>580.0</td>\n",
       "      <td>68.0</td>\n",
       "      <td>40000.0</td>\n",
       "      <td>0.022529</td>\n",
       "      <td>1</td>\n",
       "    </tr>\n",
       "    <tr>\n",
       "      <th>1</th>\n",
       "      <td>Maison</td>\n",
       "      <td>3.0</td>\n",
       "      <td>400.0</td>\n",
       "      <td>68.0</td>\n",
       "      <td>40000.0</td>\n",
       "      <td>0.024163</td>\n",
       "      <td>1</td>\n",
       "    </tr>\n",
       "    <tr>\n",
       "      <th>2</th>\n",
       "      <td>Maison</td>\n",
       "      <td>4.0</td>\n",
       "      <td>0.0</td>\n",
       "      <td>100.0</td>\n",
       "      <td>30000.0</td>\n",
       "      <td>0.021922</td>\n",
       "      <td>1</td>\n",
       "    </tr>\n",
       "    <tr>\n",
       "      <th>3</th>\n",
       "      <td>Maison</td>\n",
       "      <td>2.0</td>\n",
       "      <td>1670.0</td>\n",
       "      <td>39.0</td>\n",
       "      <td>30000.0</td>\n",
       "      <td>-0.062316</td>\n",
       "      <td>-1</td>\n",
       "    </tr>\n",
       "    <tr>\n",
       "      <th>4</th>\n",
       "      <td>Maison</td>\n",
       "      <td>2.0</td>\n",
       "      <td>500.0</td>\n",
       "      <td>39.0</td>\n",
       "      <td>30000.0</td>\n",
       "      <td>-0.030907</td>\n",
       "      <td>-1</td>\n",
       "    </tr>\n",
       "  </tbody>\n",
       "</table>\n",
       "</div>"
      ],
      "text/plain": [
       "  Type local  Nombre pieces principales  Surface terrain  Surface reelle bati  \\\n",
       "0     Maison                        3.0            580.0                 68.0   \n",
       "1     Maison                        3.0            400.0                 68.0   \n",
       "2     Maison                        4.0              0.0                100.0   \n",
       "3     Maison                        2.0           1670.0                 39.0   \n",
       "4     Maison                        2.0            500.0                 39.0   \n",
       "\n",
       "   Valeur fonciere    scores  anomaly  \n",
       "0          40000.0  0.022529        1  \n",
       "1          40000.0  0.024163        1  \n",
       "2          30000.0  0.021922        1  \n",
       "3          30000.0 -0.062316       -1  \n",
       "4          30000.0 -0.030907       -1  "
      ]
     },
     "metadata": {},
     "execution_count": 13
    }
   ],
   "metadata": {}
  },
  {
   "cell_type": "code",
   "execution_count": 14,
   "source": [
    "# Vérification du nombre de valeurs\r\n",
    "print(\"valeursMaisons63_if \", len(valeursMaisons63_if), \" rows\")\r\n",
    "print(\"Anomalies \", len(valeursMaisons63_if[valeursMaisons63_if['anomaly']==-1]), \" rows\")"
   ],
   "outputs": [
    {
     "output_type": "stream",
     "name": "stdout",
     "text": [
      "valeursMaisons63_if  300  rows\n",
      "Anomalies  56  rows\n"
     ]
    }
   ],
   "metadata": {}
  },
  {
   "cell_type": "code",
   "execution_count": 15,
   "source": [
    "# Suppression des anomalies\r\n",
    "valeursMaisons63_if = valeursMaisons63_if[['Type local', 'Nombre pieces principales', 'Surface terrain', 'Surface reelle bati', 'Valeur fonciere']][valeursMaisons63_if[\"anomaly\"] != -1]"
   ],
   "outputs": [],
   "metadata": {}
  },
  {
   "cell_type": "code",
   "execution_count": 16,
   "source": [
    "# Correlation\r\n",
    "data_corr_train = valeursMaisons63_if.corr()\r\n",
    "sns.heatmap(data_corr_train, linewidths=.5, annot=True)"
   ],
   "outputs": [
    {
     "output_type": "execute_result",
     "data": {
      "text/plain": [
       "<AxesSubplot:>"
      ]
     },
     "metadata": {},
     "execution_count": 16
    },
    {
     "output_type": "display_data",
     "data": {
      "image/png": "[encoded data removed]",
      "text/plain": [
       "<Figure size 432x288 with 2 Axes>"
      ]
     },
     "metadata": {
      "needs_background": "light"
     }
    }
   ],
   "metadata": {}
  },
  {
   "cell_type": "code",
   "execution_count": 17,
   "source": [
    "valeursMaisons63_if['Valeur fonciere'].plot(kind = 'box', title = 'Properties distribution according to their land value', figsize = (10, 8))\r\n",
    "plt.show()"
   ],
   "outputs": [
    {
     "output_type": "display_data",
     "data": {
      "image/png": "[encoded data removed]",
      "text/plain": [
       "<Figure size 720x576 with 1 Axes>"
      ]
     },
     "metadata": {
      "needs_background": "light"
     }
    }
   ],
   "metadata": {}
  },
  {
   "cell_type": "code",
   "execution_count": 18,
   "source": [
    "valeursMaisons63_if.hist(column='Valeur fonciere')"
   ],
   "outputs": [
    {
     "output_type": "execute_result",
     "data": {
      "text/plain": [
       "array([[<AxesSubplot:title={'center':'Valeur fonciere'}>]], dtype=object)"
      ]
     },
     "metadata": {},
     "execution_count": 18
    },
    {
     "output_type": "display_data",
     "data": {
      "image/png": "[encoded data removed]",
      "text/plain": [
       "<Figure size 432x288 with 1 Axes>"
      ]
     },
     "metadata": {
      "needs_background": "light"
     }
    }
   ],
   "metadata": {}
  },
  {
   "cell_type": "markdown",
   "source": [
    "## Test de la méthode d'isolation forest définitive"
   ],
   "metadata": {}
  },
  {
   "cell_type": "code",
   "execution_count": 19,
   "source": [
    "# dataTest = pd.read_csv(cr.CURATED_LOCAL_PATH + \"CPAppart/75.csv\", sep=\"|\", encoding=\"utf-8\")"
   ],
   "outputs": [],
   "metadata": {}
  },
  {
   "cell_type": "markdown",
   "source": [
    "## Faire tourner l'Isolation Forest sur tous les csv"
   ],
   "metadata": {}
  },
  {
   "cell_type": "markdown",
   "source": [
    "## Etalonage d'un modèle de régression linéaire"
   ],
   "metadata": {}
  },
  {
   "cell_type": "code",
   "execution_count": 38,
   "source": [
    "from classes.linear_regression import Linear_reg"
   ],
   "outputs": [],
   "metadata": {}
  },
  {
   "cell_type": "code",
   "execution_count": 39,
   "source": [
    "# Instanciation du modèle\r\n",
    "linear_reg = Linear_reg()\r\n",
    "\r\n",
    "# Split en train et test sets\r\n",
    "train_features, test_features, train_labels, test_labels = linear_reg.train_test_split('63_IF', 'maison')"
   ],
   "outputs": [],
   "metadata": {}
  },
  {
   "cell_type": "code",
   "execution_count": 40,
   "source": [
    "# Entrainnement du modèle\r\n",
    "linear_reg.train(train_features, train_labels)"
   ],
   "outputs": [],
   "metadata": {}
  },
  {
   "cell_type": "markdown",
   "source": [
    "## Test du modèle"
   ],
   "metadata": {}
  },
  {
   "cell_type": "code",
   "execution_count": 41,
   "source": [
    "linear_reg.get_metrics(test_features, test_labels)"
   ],
   "outputs": [
    {
     "output_type": "stream",
     "name": "stdout",
     "text": [
      "Mean squared error:  4436960092.255547 \n",
      "Variance regression score function:  0.553713252893057 \n",
      "Maximum residual error:  201079.13925297803 \n",
      "Mean absolute error regression loss:  50552.882261494065\n"
     ]
    }
   ],
   "metadata": {}
  },
  {
   "cell_type": "code",
   "execution_count": 42,
   "source": [
    "# Prédictions sur un jeu de test\r\n",
    "test_set = pd.read_csv(cr.CURATED_LOCAL_PATH + \"/CPMaisons/3.csv\", sep=\"|\", usecols=['Nombre pieces principales', 'Surface terrain', 'Surface reelle bati'], encoding=\"utf-8\")\r\n",
    "test_set = test_set.dropna()\r\n",
    "\r\n",
    "test_set_labels = pd.read_csv(cr.CURATED_LOCAL_PATH + \"/CPMaisons/3.csv\", sep=\"|\", usecols=['Nombre pieces principales', 'Surface terrain', 'Surface reelle bati', 'Valeur fonciere'], encoding=\"utf-8\")\r\n",
    "test_set_labels = test_set_labels.dropna()\r\n",
    "\r\n",
    "linear_reg.predict(test_set)\r\n",
    "test_set.head()\r\n"
   ],
   "outputs": [
    {
     "output_type": "execute_result",
     "data": {
      "text/html": [
       "<div>\n",
       "<style scoped>\n",
       "    .dataframe tbody tr th:only-of-type {\n",
       "        vertical-align: middle;\n",
       "    }\n",
       "\n",
       "    .dataframe tbody tr th {\n",
       "        vertical-align: top;\n",
       "    }\n",
       "\n",
       "    .dataframe thead th {\n",
       "        text-align: right;\n",
       "    }\n",
       "</style>\n",
       "<table border=\"1\" class=\"dataframe\">\n",
       "  <thead>\n",
       "    <tr style=\"text-align: right;\">\n",
       "      <th></th>\n",
       "      <th>Nombre pieces principales</th>\n",
       "      <th>Surface terrain</th>\n",
       "      <th>Surface reelle bati</th>\n",
       "      <th>Valeur fonciere estimee</th>\n",
       "    </tr>\n",
       "  </thead>\n",
       "  <tbody>\n",
       "    <tr>\n",
       "      <th>0</th>\n",
       "      <td>1.0</td>\n",
       "      <td>1625.0</td>\n",
       "      <td>53.0</td>\n",
       "      <td>163981.799720</td>\n",
       "    </tr>\n",
       "    <tr>\n",
       "      <th>1</th>\n",
       "      <td>2.0</td>\n",
       "      <td>100.0</td>\n",
       "      <td>56.0</td>\n",
       "      <td>110593.701774</td>\n",
       "    </tr>\n",
       "    <tr>\n",
       "      <th>2</th>\n",
       "      <td>4.0</td>\n",
       "      <td>153.0</td>\n",
       "      <td>96.0</td>\n",
       "      <td>179677.862546</td>\n",
       "    </tr>\n",
       "    <tr>\n",
       "      <th>3</th>\n",
       "      <td>6.0</td>\n",
       "      <td>560.0</td>\n",
       "      <td>157.0</td>\n",
       "      <td>296500.378300</td>\n",
       "    </tr>\n",
       "    <tr>\n",
       "      <th>4</th>\n",
       "      <td>6.0</td>\n",
       "      <td>753.0</td>\n",
       "      <td>130.0</td>\n",
       "      <td>260375.792129</td>\n",
       "    </tr>\n",
       "  </tbody>\n",
       "</table>\n",
       "</div>"
      ],
      "text/plain": [
       "   Nombre pieces principales  Surface terrain  Surface reelle bati  \\\n",
       "0                        1.0           1625.0                 53.0   \n",
       "1                        2.0            100.0                 56.0   \n",
       "2                        4.0            153.0                 96.0   \n",
       "3                        6.0            560.0                157.0   \n",
       "4                        6.0            753.0                130.0   \n",
       "\n",
       "   Valeur fonciere estimee  \n",
       "0            163981.799720  \n",
       "1            110593.701774  \n",
       "2            179677.862546  \n",
       "3            296500.378300  \n",
       "4            260375.792129  "
      ]
     },
     "metadata": {},
     "execution_count": 42
    }
   ],
   "metadata": {}
  },
  {
   "cell_type": "code",
   "execution_count": 43,
   "source": [
    "test_set_labels.head()"
   ],
   "outputs": [
    {
     "output_type": "execute_result",
     "data": {
      "text/html": [
       "<div>\n",
       "<style scoped>\n",
       "    .dataframe tbody tr th:only-of-type {\n",
       "        vertical-align: middle;\n",
       "    }\n",
       "\n",
       "    .dataframe tbody tr th {\n",
       "        vertical-align: top;\n",
       "    }\n",
       "\n",
       "    .dataframe thead th {\n",
       "        text-align: right;\n",
       "    }\n",
       "</style>\n",
       "<table border=\"1\" class=\"dataframe\">\n",
       "  <thead>\n",
       "    <tr style=\"text-align: right;\">\n",
       "      <th></th>\n",
       "      <th>Nombre pieces principales</th>\n",
       "      <th>Surface terrain</th>\n",
       "      <th>Surface reelle bati</th>\n",
       "      <th>Valeur fonciere</th>\n",
       "    </tr>\n",
       "  </thead>\n",
       "  <tbody>\n",
       "    <tr>\n",
       "      <th>0</th>\n",
       "      <td>1.0</td>\n",
       "      <td>1625.0</td>\n",
       "      <td>53.0</td>\n",
       "      <td>81775.0</td>\n",
       "    </tr>\n",
       "    <tr>\n",
       "      <th>1</th>\n",
       "      <td>2.0</td>\n",
       "      <td>100.0</td>\n",
       "      <td>56.0</td>\n",
       "      <td>30000.0</td>\n",
       "    </tr>\n",
       "    <tr>\n",
       "      <th>2</th>\n",
       "      <td>4.0</td>\n",
       "      <td>153.0</td>\n",
       "      <td>96.0</td>\n",
       "      <td>34000.0</td>\n",
       "    </tr>\n",
       "    <tr>\n",
       "      <th>3</th>\n",
       "      <td>6.0</td>\n",
       "      <td>560.0</td>\n",
       "      <td>157.0</td>\n",
       "      <td>102500.0</td>\n",
       "    </tr>\n",
       "    <tr>\n",
       "      <th>4</th>\n",
       "      <td>6.0</td>\n",
       "      <td>753.0</td>\n",
       "      <td>130.0</td>\n",
       "      <td>113000.0</td>\n",
       "    </tr>\n",
       "  </tbody>\n",
       "</table>\n",
       "</div>"
      ],
      "text/plain": [
       "   Nombre pieces principales  Surface terrain  Surface reelle bati  \\\n",
       "0                        1.0           1625.0                 53.0   \n",
       "1                        2.0            100.0                 56.0   \n",
       "2                        4.0            153.0                 96.0   \n",
       "3                        6.0            560.0                157.0   \n",
       "4                        6.0            753.0                130.0   \n",
       "\n",
       "   Valeur fonciere  \n",
       "0          81775.0  \n",
       "1          30000.0  \n",
       "2          34000.0  \n",
       "3         102500.0  \n",
       "4         113000.0  "
      ]
     },
     "metadata": {},
     "execution_count": 43
    }
   ],
   "metadata": {}
  },
  {
   "cell_type": "code",
   "execution_count": 44,
   "source": [
    "print(linear_reg.predict_value(104.0, 4.0, 595.0))"
   ],
   "outputs": [
    {
     "output_type": "stream",
     "name": "stdout",
     "text": [
      "[1098526.68576985]\n"
     ]
    }
   ],
   "metadata": {}
  }
 ],
 "metadata": {
  "orig_nbformat": 4,
  "language_info": {
   "name": "python",
   "version": "3.8.11",
   "mimetype": "text/x-python",
   "codemirror_mode": {
    "name": "ipython",
    "version": 3
   },
   "pygments_lexer": "ipython3",
   "nbconvert_exporter": "python",
   "file_extension": ".py"
  },
  "kernelspec": {
   "name": "python3",
   "display_name": "Python 3.8.11 64-bit ('API': conda)"
  },
  "interpreter": {
   "hash": "9687d5d8279dd312a0e4024d8cc4c4f0892cf3f0b637e639efc9f6d064d41366"
  }
 },
 "nbformat": 4,
 "nbformat_minor": 2
}