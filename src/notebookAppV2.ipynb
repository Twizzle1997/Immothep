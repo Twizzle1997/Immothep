{
 "cells": [
  {
   "cell_type": "markdown",
   "source": [
    "# Notebook de préparation au modèle d'estimation"
   ],
   "metadata": {}
  },
  {
   "cell_type": "markdown",
   "source": [
    "## Imports et paramètrage"
   ],
   "metadata": {}
  },
  {
   "cell_type": "code",
   "execution_count": 1,
   "source": [
    "%load_ext autoreload\r\n",
    "%autoreload 2\r\n",
    "import os\r\n",
    "import pandas as pd\r\n",
    "import numpy as np\r\n",
    "import seaborn as sn\r\n",
    "import matplotlib\r\n",
    "import matplotlib.pyplot as plt\r\n",
    "from classes.credentials import Credentials as cr\r\n",
    "from classes.prediction import ImmothepPrediction\r\n",
    "from classes.split import Splitter\r\n",
    "from sklearn.ensemble import IsolationForest\r\n",
    "\r\n",
    "splitter = Splitter()\r\n",
    "predictor = ImmothepPrediction()"
   ],
   "outputs": [],
   "metadata": {}
  },
  {
   "cell_type": "code",
   "execution_count": 4,
   "source": [
    "valeurs2020 = pd.read_csv(cr.PATH+'2020.txt', sep='|', usecols=['Nature mutation', 'Code postal','Nombre pieces principales', 'Surface terrain', 'Surface Carrez du 1er lot', 'Surface Carrez du 2eme lot', 'Surface Carrez du 3eme lot', 'Surface Carrez du 4eme lot', 'Surface Carrez du 5eme lot', 'Valeur fonciere', 'Type local', 'Nombre de lots', 'Surface reelle bati'], encoding='utf-8')"
   ],
   "outputs": [
    {
     "output_type": "stream",
     "name": "stderr",
     "text": [
      "C:\\Users\\audre\\anaconda3\\envs\\API\\lib\\site-packages\\IPython\\core\\interactiveshell.py:3441: DtypeWarning: Columns (31,33) have mixed types.Specify dtype option on import or set low_memory=False.\n",
      "  exec(code_obj, self.user_global_ns, self.user_ns)\n"
     ]
    }
   ],
   "metadata": {}
  },
  {
   "cell_type": "markdown",
   "source": [
    "## Nettoyage du dataset de biens immobiliers 2020\r\n",
    "- Retirer les nuls\r\n",
    "- Ploter\r\n",
    "- Valeurs abhérentes\r\n",
    "- Isolation forest"
   ],
   "metadata": {}
  },
  {
   "cell_type": "code",
   "execution_count": 5,
   "source": [
    "# Drop les lignes avec des nulles : type local, nombre lots, nb pièces, nature mutation, valeur foncière et CP\r\n",
    "valeurs2020 = valeurs2020.dropna(subset = ['Type local', 'Nombre de lots', 'Nombre pieces principales', \"Nature mutation\", 'Valeur fonciere', 'Code postal'])\r\n",
    "\r\n",
    "# On remplace les null de la surface de terrain des appartements par 0\r\n",
    "valeurs2020['Surface terrain'][valeurs2020['Type local'].str.contains(\"Appartement\", regex=True)] = valeurs2020['Surface terrain'][valeurs2020['Type local'].str.contains(\"Appartement\", regex=True)].fillna(0) \r\n",
    "\r\n",
    "valeurs2020.head()"
   ],
   "outputs": [
    {
     "output_type": "execute_result",
     "data": {
      "text/html": [
       "<div>\n",
       "<style scoped>\n",
       "    .dataframe tbody tr th:only-of-type {\n",
       "        vertical-align: middle;\n",
       "    }\n",
       "\n",
       "    .dataframe tbody tr th {\n",
       "        vertical-align: top;\n",
       "    }\n",
       "\n",
       "    .dataframe thead th {\n",
       "        text-align: right;\n",
       "    }\n",
       "</style>\n",
       "<table border=\"1\" class=\"dataframe\">\n",
       "  <thead>\n",
       "    <tr style=\"text-align: right;\">\n",
       "      <th></th>\n",
       "      <th>Nature mutation</th>\n",
       "      <th>Valeur fonciere</th>\n",
       "      <th>Code postal</th>\n",
       "      <th>Surface Carrez du 1er lot</th>\n",
       "      <th>Surface Carrez du 2eme lot</th>\n",
       "      <th>Surface Carrez du 3eme lot</th>\n",
       "      <th>Surface Carrez du 4eme lot</th>\n",
       "      <th>Surface Carrez du 5eme lot</th>\n",
       "      <th>Nombre de lots</th>\n",
       "      <th>Type local</th>\n",
       "      <th>Surface reelle bati</th>\n",
       "      <th>Nombre pieces principales</th>\n",
       "      <th>Surface terrain</th>\n",
       "    </tr>\n",
       "  </thead>\n",
       "  <tbody>\n",
       "    <tr>\n",
       "      <th>11</th>\n",
       "      <td>Vente</td>\n",
       "      <td>72000,00</td>\n",
       "      <td>1270.0</td>\n",
       "      <td>NaN</td>\n",
       "      <td>NaN</td>\n",
       "      <td>NaN</td>\n",
       "      <td>NaN</td>\n",
       "      <td>NaN</td>\n",
       "      <td>0</td>\n",
       "      <td>Maison</td>\n",
       "      <td>35.0</td>\n",
       "      <td>2.0</td>\n",
       "      <td>381.0</td>\n",
       "    </tr>\n",
       "    <tr>\n",
       "      <th>13</th>\n",
       "      <td>Vente</td>\n",
       "      <td>180300,00</td>\n",
       "      <td>1000.0</td>\n",
       "      <td>NaN</td>\n",
       "      <td>NaN</td>\n",
       "      <td>NaN</td>\n",
       "      <td>NaN</td>\n",
       "      <td>NaN</td>\n",
       "      <td>0</td>\n",
       "      <td>Maison</td>\n",
       "      <td>75.0</td>\n",
       "      <td>4.0</td>\n",
       "      <td>525.0</td>\n",
       "    </tr>\n",
       "    <tr>\n",
       "      <th>14</th>\n",
       "      <td>Vente</td>\n",
       "      <td>54800,00</td>\n",
       "      <td>1000.0</td>\n",
       "      <td>31,68</td>\n",
       "      <td>NaN</td>\n",
       "      <td>NaN</td>\n",
       "      <td>NaN</td>\n",
       "      <td>NaN</td>\n",
       "      <td>2</td>\n",
       "      <td>Appartement</td>\n",
       "      <td>32.0</td>\n",
       "      <td>1.0</td>\n",
       "      <td>0.0</td>\n",
       "    </tr>\n",
       "    <tr>\n",
       "      <th>16</th>\n",
       "      <td>Vente</td>\n",
       "      <td>350750,00</td>\n",
       "      <td>1000.0</td>\n",
       "      <td>NaN</td>\n",
       "      <td>NaN</td>\n",
       "      <td>NaN</td>\n",
       "      <td>NaN</td>\n",
       "      <td>NaN</td>\n",
       "      <td>0</td>\n",
       "      <td>Maison</td>\n",
       "      <td>201.0</td>\n",
       "      <td>7.0</td>\n",
       "      <td>1267.0</td>\n",
       "    </tr>\n",
       "    <tr>\n",
       "      <th>17</th>\n",
       "      <td>Vente</td>\n",
       "      <td>350750,00</td>\n",
       "      <td>1000.0</td>\n",
       "      <td>NaN</td>\n",
       "      <td>NaN</td>\n",
       "      <td>NaN</td>\n",
       "      <td>NaN</td>\n",
       "      <td>NaN</td>\n",
       "      <td>0</td>\n",
       "      <td>Maison</td>\n",
       "      <td>201.0</td>\n",
       "      <td>7.0</td>\n",
       "      <td>1497.0</td>\n",
       "    </tr>\n",
       "  </tbody>\n",
       "</table>\n",
       "</div>"
      ],
      "text/plain": [
       "   Nature mutation Valeur fonciere  Code postal Surface Carrez du 1er lot  \\\n",
       "11           Vente        72000,00       1270.0                       NaN   \n",
       "13           Vente       180300,00       1000.0                       NaN   \n",
       "14           Vente        54800,00       1000.0                     31,68   \n",
       "16           Vente       350750,00       1000.0                       NaN   \n",
       "17           Vente       350750,00       1000.0                       NaN   \n",
       "\n",
       "   Surface Carrez du 2eme lot Surface Carrez du 3eme lot  \\\n",
       "11                        NaN                        NaN   \n",
       "13                        NaN                        NaN   \n",
       "14                        NaN                        NaN   \n",
       "16                        NaN                        NaN   \n",
       "17                        NaN                        NaN   \n",
       "\n",
       "   Surface Carrez du 4eme lot Surface Carrez du 5eme lot  Nombre de lots  \\\n",
       "11                        NaN                        NaN               0   \n",
       "13                        NaN                        NaN               0   \n",
       "14                        NaN                        NaN               2   \n",
       "16                        NaN                        NaN               0   \n",
       "17                        NaN                        NaN               0   \n",
       "\n",
       "     Type local  Surface reelle bati  Nombre pieces principales  \\\n",
       "11       Maison                 35.0                        2.0   \n",
       "13       Maison                 75.0                        4.0   \n",
       "14  Appartement                 32.0                        1.0   \n",
       "16       Maison                201.0                        7.0   \n",
       "17       Maison                201.0                        7.0   \n",
       "\n",
       "    Surface terrain  \n",
       "11            381.0  \n",
       "13            525.0  \n",
       "14              0.0  \n",
       "16           1267.0  \n",
       "17           1497.0  "
      ]
     },
     "metadata": {},
     "execution_count": 5
    }
   ],
   "metadata": {}
  },
  {
   "cell_type": "code",
   "execution_count": 6,
   "source": [
    "# Premier tri, on garde les appartements et maisons, les ventes, un nombre de pièces principales supérieur à 0, \r\n",
    "# un nombre de lots inférieur à 6, surface réelle bâtie supérieure à 8 (minimum légal)\r\n",
    "valeurs2020 = valeurs2020[[\r\n",
    "    'Code postal', \r\n",
    "    'Nombre pieces principales', \r\n",
    "    'Surface terrain', \r\n",
    "    'Surface Carrez du 1er lot', \r\n",
    "    'Surface Carrez du 2eme lot', \r\n",
    "    'Surface Carrez du 3eme lot', \r\n",
    "    'Surface Carrez du 4eme lot', \r\n",
    "    'Surface Carrez du 5eme lot', \r\n",
    "    'Valeur fonciere'\r\n",
    "    ]][valeurs2020['Type local'].str.contains(\"Appartement|Maison\", regex=True)][valeurs2020['Nature mutation'].str.contains(\"Vente\", regex=True)][valeurs2020['Nombre de lots']<6][valeurs2020['Nombre pieces principales']>0][valeurs2020['Surface reelle bati']>=8]\r\n"
   ],
   "outputs": [
    {
     "output_type": "stream",
     "name": "stderr",
     "text": [
      "C:\\Users\\audre\\AppData\\Local\\Temp/ipykernel_20176/4070982666.py:3: UserWarning: Boolean Series key will be reindexed to match DataFrame index.\n",
      "  valeurs2020 = valeurs2020[[\n"
     ]
    }
   ],
   "metadata": {}
  },
  {
   "cell_type": "markdown",
   "source": [
    "## Split du dataset en départements"
   ],
   "metadata": {}
  },
  {
   "cell_type": "markdown",
   "source": [
    "## Etalonage d'un modèle de régression linéaire"
   ],
   "metadata": {}
  },
  {
   "cell_type": "markdown",
   "source": [
    "## Test du modèle"
   ],
   "metadata": {}
  },
  {
   "cell_type": "code",
   "execution_count": null,
   "source": [],
   "outputs": [],
   "metadata": {}
  }
 ],
 "metadata": {
  "orig_nbformat": 4,
  "language_info": {
   "name": "python",
   "version": "3.8.11",
   "mimetype": "text/x-python",
   "codemirror_mode": {
    "name": "ipython",
    "version": 3
   },
   "pygments_lexer": "ipython3",
   "nbconvert_exporter": "python",
   "file_extension": ".py"
  },
  "kernelspec": {
   "name": "python3",
   "display_name": "Python 3.8.11 64-bit ('API': conda)"
  },
  "interpreter": {
   "hash": "9687d5d8279dd312a0e4024d8cc4c4f0892cf3f0b637e639efc9f6d064d41366"
  }
 },
 "nbformat": 4,
 "nbformat_minor": 2
}