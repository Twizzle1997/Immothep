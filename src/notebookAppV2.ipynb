{
 "cells": [
  {
   "cell_type": "markdown",
   "source": [
    "# Notebook de préparation au modèle d'estimation"
   ],
   "metadata": {}
  },
  {
   "cell_type": "markdown",
   "source": [
    "## Imports et paramètrage"
   ],
   "metadata": {}
  },
  {
   "cell_type": "code",
   "execution_count": 1,
   "source": [
    "%load_ext autoreload\r\n",
    "%autoreload 2\r\n",
    "import pandas as pd\r\n",
    "import seaborn as sns\r\n",
    "#import numpy as np\r\n",
    "import matplotlib.pyplot as plt\r\n",
    "from classes.credentials import Credentials as cr\r\n",
    "from classes.split import Splitter\r\n",
    "from classes.isolation_forest import IsolationForestClass\r\n",
    "from classes.linear_regression import Linear_reg\r\n",
    "\r\n",
    "splitter = Splitter()\r\n",
    "isolation = IsolationForestClass()"
   ],
   "outputs": [],
   "metadata": {}
  },
  {
   "cell_type": "code",
   "execution_count": 2,
   "source": [
    "valeurs2020 = pd.read_csv(cr.PATH+'2020.txt', sep='|', usecols=['Nature mutation', 'Code postal','Nombre pieces principales', 'Surface terrain', 'Valeur fonciere', 'Type local', 'Nombre de lots', 'Surface reelle bati'], encoding='utf-8')"
   ],
   "outputs": [],
   "metadata": {}
  },
  {
   "cell_type": "markdown",
   "source": [
    "## Nettoyage du dataset de biens immobiliers 2020\r\n",
    "- Retirer les nuls\r\n",
    "- Ploter\r\n",
    "- Isolation forest"
   ],
   "metadata": {}
  },
  {
   "cell_type": "code",
   "execution_count": 3,
   "source": [
    "# Drop les lignes avec des nulles : type local, nombre lots, nb pièces, nature mutation, valeur foncière et CP\r\n",
    "valeurs2020 = valeurs2020.dropna(subset = ['Type local', 'Nombre de lots', 'Nombre pieces principales', \"Nature mutation\", 'Valeur fonciere', 'Code postal'])\r\n",
    "\r\n",
    "# On remplace les null de la surface de terrain par 0\r\n",
    "valeurs2020['Surface terrain'] = valeurs2020['Surface terrain'].fillna(0) \r\n",
    "\r\n",
    "valeurs2020.head()"
   ],
   "outputs": [
    {
     "output_type": "execute_result",
     "data": {
      "text/html": [
       "<div>\n",
       "<style scoped>\n",
       "    .dataframe tbody tr th:only-of-type {\n",
       "        vertical-align: middle;\n",
       "    }\n",
       "\n",
       "    .dataframe tbody tr th {\n",
       "        vertical-align: top;\n",
       "    }\n",
       "\n",
       "    .dataframe thead th {\n",
       "        text-align: right;\n",
       "    }\n",
       "</style>\n",
       "<table border=\"1\" class=\"dataframe\">\n",
       "  <thead>\n",
       "    <tr style=\"text-align: right;\">\n",
       "      <th></th>\n",
       "      <th>Nature mutation</th>\n",
       "      <th>Valeur fonciere</th>\n",
       "      <th>Code postal</th>\n",
       "      <th>Nombre de lots</th>\n",
       "      <th>Type local</th>\n",
       "      <th>Surface reelle bati</th>\n",
       "      <th>Nombre pieces principales</th>\n",
       "      <th>Surface terrain</th>\n",
       "    </tr>\n",
       "  </thead>\n",
       "  <tbody>\n",
       "    <tr>\n",
       "      <th>11</th>\n",
       "      <td>Vente</td>\n",
       "      <td>72000,00</td>\n",
       "      <td>1270.0</td>\n",
       "      <td>0</td>\n",
       "      <td>Maison</td>\n",
       "      <td>35.0</td>\n",
       "      <td>2.0</td>\n",
       "      <td>381.0</td>\n",
       "    </tr>\n",
       "    <tr>\n",
       "      <th>13</th>\n",
       "      <td>Vente</td>\n",
       "      <td>180300,00</td>\n",
       "      <td>1000.0</td>\n",
       "      <td>0</td>\n",
       "      <td>Maison</td>\n",
       "      <td>75.0</td>\n",
       "      <td>4.0</td>\n",
       "      <td>525.0</td>\n",
       "    </tr>\n",
       "    <tr>\n",
       "      <th>14</th>\n",
       "      <td>Vente</td>\n",
       "      <td>54800,00</td>\n",
       "      <td>1000.0</td>\n",
       "      <td>2</td>\n",
       "      <td>Appartement</td>\n",
       "      <td>32.0</td>\n",
       "      <td>1.0</td>\n",
       "      <td>0.0</td>\n",
       "    </tr>\n",
       "    <tr>\n",
       "      <th>16</th>\n",
       "      <td>Vente</td>\n",
       "      <td>350750,00</td>\n",
       "      <td>1000.0</td>\n",
       "      <td>0</td>\n",
       "      <td>Maison</td>\n",
       "      <td>201.0</td>\n",
       "      <td>7.0</td>\n",
       "      <td>1267.0</td>\n",
       "    </tr>\n",
       "    <tr>\n",
       "      <th>17</th>\n",
       "      <td>Vente</td>\n",
       "      <td>350750,00</td>\n",
       "      <td>1000.0</td>\n",
       "      <td>0</td>\n",
       "      <td>Maison</td>\n",
       "      <td>201.0</td>\n",
       "      <td>7.0</td>\n",
       "      <td>1497.0</td>\n",
       "    </tr>\n",
       "  </tbody>\n",
       "</table>\n",
       "</div>"
      ],
      "text/plain": [
       "   Nature mutation Valeur fonciere  Code postal  Nombre de lots   Type local  \\\n",
       "11           Vente        72000,00       1270.0               0       Maison   \n",
       "13           Vente       180300,00       1000.0               0       Maison   \n",
       "14           Vente        54800,00       1000.0               2  Appartement   \n",
       "16           Vente       350750,00       1000.0               0       Maison   \n",
       "17           Vente       350750,00       1000.0               0       Maison   \n",
       "\n",
       "    Surface reelle bati  Nombre pieces principales  Surface terrain  \n",
       "11                 35.0                        2.0            381.0  \n",
       "13                 75.0                        4.0            525.0  \n",
       "14                 32.0                        1.0              0.0  \n",
       "16                201.0                        7.0           1267.0  \n",
       "17                201.0                        7.0           1497.0  "
      ]
     },
     "metadata": {},
     "execution_count": 3
    }
   ],
   "metadata": {}
  },
  {
   "cell_type": "code",
   "execution_count": 4,
   "source": [
    "# Premier tri, on garde les appartements et maisons, les ventes, un nombre de pièces principales supérieur à 0, \r\n",
    "# un nombre de lots inférieur à 6, surface réelle bâtie supérieure à 8 (minimum légal)\r\n",
    "valeurs2020 = valeurs2020[[\r\n",
    "    'Type local',\r\n",
    "    'Code postal', \r\n",
    "    'Nombre pieces principales', \r\n",
    "    'Surface terrain', \r\n",
    "    'Surface reelle bati',\r\n",
    "    'Valeur fonciere',\r\n",
    "    'Nombre de lots'\r\n",
    "    ]][valeurs2020['Type local'].str.contains(\"Appartement|Maison\", regex=True)][valeurs2020['Nature mutation'].str.contains(\"Vente\", regex=True)][valeurs2020['Nombre de lots']<6][valeurs2020['Nombre pieces principales']>0][valeurs2020['Surface reelle bati']>=8]\r\n"
   ],
   "outputs": [
    {
     "output_type": "stream",
     "name": "stderr",
     "text": [
      "C:\\Users\\audre\\AppData\\Local\\Temp/ipykernel_19832/4135512856.py:3: UserWarning: Boolean Series key will be reindexed to match DataFrame index.\n",
      "  valeurs2020 = valeurs2020[[\n"
     ]
    }
   ],
   "metadata": {}
  },
  {
   "cell_type": "code",
   "execution_count": 5,
   "source": [
    "valeurs2020.info()"
   ],
   "outputs": [
    {
     "output_type": "stream",
     "name": "stdout",
     "text": [
      "<class 'pandas.core.frame.DataFrame'>\n",
      "Int64Index: 915817 entries, 11 to 2459557\n",
      "Data columns (total 7 columns):\n",
      " #   Column                     Non-Null Count   Dtype  \n",
      "---  ------                     --------------   -----  \n",
      " 0   Type local                 915817 non-null  object \n",
      " 1   Code postal                915817 non-null  float64\n",
      " 2   Nombre pieces principales  915817 non-null  float64\n",
      " 3   Surface terrain            915817 non-null  float64\n",
      " 4   Surface reelle bati        915817 non-null  float64\n",
      " 5   Valeur fonciere            915817 non-null  object \n",
      " 6   Nombre de lots             915817 non-null  int64  \n",
      "dtypes: float64(4), int64(1), object(2)\n",
      "memory usage: 55.9+ MB\n"
     ]
    }
   ],
   "metadata": {}
  },
  {
   "cell_type": "code",
   "execution_count": 6,
   "source": [
    "# Changement des virgules en points\r\n",
    "valeurs2020[['Valeur fonciere']] = valeurs2020[['Valeur fonciere']].replace(',', '.', regex=True)\r\n",
    "\r\n",
    "# Passage des objets en floats\r\n",
    "valeurs2020[['Valeur fonciere']]  = valeurs2020[['Valeur fonciere']].astype('float')\r\n",
    "\r\n",
    "valeurs2020.info()"
   ],
   "outputs": [
    {
     "output_type": "stream",
     "name": "stdout",
     "text": [
      "<class 'pandas.core.frame.DataFrame'>\n",
      "Int64Index: 915817 entries, 11 to 2459557\n",
      "Data columns (total 7 columns):\n",
      " #   Column                     Non-Null Count   Dtype  \n",
      "---  ------                     --------------   -----  \n",
      " 0   Type local                 915817 non-null  object \n",
      " 1   Code postal                915817 non-null  float64\n",
      " 2   Nombre pieces principales  915817 non-null  float64\n",
      " 3   Surface terrain            915817 non-null  float64\n",
      " 4   Surface reelle bati        915817 non-null  float64\n",
      " 5   Valeur fonciere            915817 non-null  float64\n",
      " 6   Nombre de lots             915817 non-null  int64  \n",
      "dtypes: float64(5), int64(1), object(1)\n",
      "memory usage: 55.9+ MB\n"
     ]
    }
   ],
   "metadata": {}
  },
  {
   "cell_type": "code",
   "execution_count": 7,
   "source": [
    "valeurs2020.to_csv(cr.CURATED_LOCAL_PATH + 'filtreValeurs.csv', index=False)"
   ],
   "outputs": [],
   "metadata": {}
  },
  {
   "cell_type": "markdown",
   "source": [
    "## Split du dataset en départements"
   ],
   "metadata": {}
  },
  {
   "cell_type": "code",
   "execution_count": 8,
   "source": [
    "splitter.split_datas('filtreValeurs.csv', 'Type local', 'Train', '|')\r\n"
   ],
   "outputs": [],
   "metadata": {}
  },
  {
   "cell_type": "markdown",
   "source": [
    "## Test de l'isolation forest sur le dataset des appartements"
   ],
   "metadata": {}
  },
  {
   "cell_type": "code",
   "execution_count": 9,
   "source": [
    "df_apt = pd.read_csv(cr.CURATED_LOCAL_PATH + '/Train/Appartement.csv', sep='|', encoding='utf-8')\r\n",
    "df_apt.head()"
   ],
   "outputs": [
    {
     "output_type": "execute_result",
     "data": {
      "text/html": [
       "<div>\n",
       "<style scoped>\n",
       "    .dataframe tbody tr th:only-of-type {\n",
       "        vertical-align: middle;\n",
       "    }\n",
       "\n",
       "    .dataframe tbody tr th {\n",
       "        vertical-align: top;\n",
       "    }\n",
       "\n",
       "    .dataframe thead th {\n",
       "        text-align: right;\n",
       "    }\n",
       "</style>\n",
       "<table border=\"1\" class=\"dataframe\">\n",
       "  <thead>\n",
       "    <tr style=\"text-align: right;\">\n",
       "      <th></th>\n",
       "      <th>Type local</th>\n",
       "      <th>Code postal</th>\n",
       "      <th>Nombre pieces principales</th>\n",
       "      <th>Surface terrain</th>\n",
       "      <th>Surface reelle bati</th>\n",
       "      <th>Valeur fonciere</th>\n",
       "      <th>Nombre de lots</th>\n",
       "    </tr>\n",
       "  </thead>\n",
       "  <tbody>\n",
       "    <tr>\n",
       "      <th>0</th>\n",
       "      <td>Appartement</td>\n",
       "      <td>1000.0</td>\n",
       "      <td>1.0</td>\n",
       "      <td>0.0</td>\n",
       "      <td>32.0</td>\n",
       "      <td>54800.0</td>\n",
       "      <td>2</td>\n",
       "    </tr>\n",
       "    <tr>\n",
       "      <th>1</th>\n",
       "      <td>Appartement</td>\n",
       "      <td>1270.0</td>\n",
       "      <td>2.0</td>\n",
       "      <td>195.0</td>\n",
       "      <td>50.0</td>\n",
       "      <td>53650.0</td>\n",
       "      <td>0</td>\n",
       "    </tr>\n",
       "    <tr>\n",
       "      <th>2</th>\n",
       "      <td>Appartement</td>\n",
       "      <td>1270.0</td>\n",
       "      <td>2.0</td>\n",
       "      <td>195.0</td>\n",
       "      <td>45.0</td>\n",
       "      <td>53650.0</td>\n",
       "      <td>0</td>\n",
       "    </tr>\n",
       "    <tr>\n",
       "      <th>3</th>\n",
       "      <td>Appartement</td>\n",
       "      <td>1000.0</td>\n",
       "      <td>3.0</td>\n",
       "      <td>0.0</td>\n",
       "      <td>92.0</td>\n",
       "      <td>97000.0</td>\n",
       "      <td>1</td>\n",
       "    </tr>\n",
       "    <tr>\n",
       "      <th>4</th>\n",
       "      <td>Appartement</td>\n",
       "      <td>1000.0</td>\n",
       "      <td>3.0</td>\n",
       "      <td>0.0</td>\n",
       "      <td>74.0</td>\n",
       "      <td>96000.0</td>\n",
       "      <td>2</td>\n",
       "    </tr>\n",
       "  </tbody>\n",
       "</table>\n",
       "</div>"
      ],
      "text/plain": [
       "    Type local  Code postal  Nombre pieces principales  Surface terrain  \\\n",
       "0  Appartement       1000.0                        1.0              0.0   \n",
       "1  Appartement       1270.0                        2.0            195.0   \n",
       "2  Appartement       1270.0                        2.0            195.0   \n",
       "3  Appartement       1000.0                        3.0              0.0   \n",
       "4  Appartement       1000.0                        3.0              0.0   \n",
       "\n",
       "   Surface reelle bati  Valeur fonciere  Nombre de lots  \n",
       "0                 32.0          54800.0               2  \n",
       "1                 50.0          53650.0               0  \n",
       "2                 45.0          53650.0               0  \n",
       "3                 92.0          97000.0               1  \n",
       "4                 74.0          96000.0               2  "
      ]
     },
     "metadata": {},
     "execution_count": 9
    }
   ],
   "metadata": {}
  },
  {
   "cell_type": "code",
   "execution_count": 10,
   "source": [
    "isolation.isolation_forest_testing(cr.CURATED_LOCAL_PATH + '/Train/Appartement.csv', cr.CURATED_LOCAL_PATH + '/Train/Appartement_if_test.csv', '|')"
   ],
   "outputs": [
    {
     "output_type": "stream",
     "name": "stdout",
     "text": [
      "    Type local  Code postal  Nombre pieces principales  Surface terrain  \\\n",
      "0  Appartement       1000.0                        1.0              0.0   \n",
      "1  Appartement       1270.0                        2.0            195.0   \n",
      "2  Appartement       1270.0                        2.0            195.0   \n",
      "3  Appartement       1000.0                        3.0              0.0   \n",
      "4  Appartement       1000.0                        3.0              0.0   \n",
      "5  Appartement       1000.0                        4.0              0.0   \n",
      "6  Appartement       1340.0                        3.0            746.0   \n",
      "7  Appartement       1340.0                        5.0            746.0   \n",
      "8  Appartement       1000.0                        2.0              0.0   \n",
      "9  Appartement       1160.0                        5.0             73.0   \n",
      "\n",
      "   Surface reelle bati  Valeur fonciere  Nombre de lots    scores  anomaly  \n",
      "0                 32.0          54800.0               2  0.024640        1  \n",
      "1                 50.0          53650.0               0  0.015137        1  \n",
      "2                 45.0          53650.0               0  0.020647        1  \n",
      "3                 92.0          97000.0               1  0.046117        1  \n",
      "4                 74.0          96000.0               2  0.056185        1  \n",
      "5                 91.0          99000.0               1  0.038399        1  \n",
      "6                 78.0         150000.0               0  0.018267        1  \n",
      "7                135.0         150000.0               0 -0.046041       -1  \n",
      "8                 45.0          70000.0               1  0.051907        1  \n",
      "9                150.0         167330.0               1 -0.038718       -1  \n"
     ]
    }
   ],
   "metadata": {}
  },
  {
   "cell_type": "code",
   "execution_count": 11,
   "source": [
    "# Import du CSV avec le score de l'IF\r\n",
    "df_apt_testif = pd.read_csv(cr.CURATED_LOCAL_PATH + '/Train/Appartement_if_test.csv', usecols=['Code postal', 'Nombre pieces principales', 'Surface terrain', 'Surface reelle bati', 'Valeur fonciere', 'Nombre de lots', 'scores', 'anomaly'])\r\n",
    "df_apt_testif.head()"
   ],
   "outputs": [
    {
     "output_type": "execute_result",
     "data": {
      "text/html": [
       "<div>\n",
       "<style scoped>\n",
       "    .dataframe tbody tr th:only-of-type {\n",
       "        vertical-align: middle;\n",
       "    }\n",
       "\n",
       "    .dataframe tbody tr th {\n",
       "        vertical-align: top;\n",
       "    }\n",
       "\n",
       "    .dataframe thead th {\n",
       "        text-align: right;\n",
       "    }\n",
       "</style>\n",
       "<table border=\"1\" class=\"dataframe\">\n",
       "  <thead>\n",
       "    <tr style=\"text-align: right;\">\n",
       "      <th></th>\n",
       "      <th>Code postal</th>\n",
       "      <th>Nombre pieces principales</th>\n",
       "      <th>Surface terrain</th>\n",
       "      <th>Surface reelle bati</th>\n",
       "      <th>Valeur fonciere</th>\n",
       "      <th>Nombre de lots</th>\n",
       "      <th>scores</th>\n",
       "      <th>anomaly</th>\n",
       "    </tr>\n",
       "  </thead>\n",
       "  <tbody>\n",
       "    <tr>\n",
       "      <th>0</th>\n",
       "      <td>1000.0</td>\n",
       "      <td>1.0</td>\n",
       "      <td>0.0</td>\n",
       "      <td>32.0</td>\n",
       "      <td>54800.0</td>\n",
       "      <td>2</td>\n",
       "      <td>0.024640</td>\n",
       "      <td>1</td>\n",
       "    </tr>\n",
       "    <tr>\n",
       "      <th>1</th>\n",
       "      <td>1270.0</td>\n",
       "      <td>2.0</td>\n",
       "      <td>195.0</td>\n",
       "      <td>50.0</td>\n",
       "      <td>53650.0</td>\n",
       "      <td>0</td>\n",
       "      <td>0.015137</td>\n",
       "      <td>1</td>\n",
       "    </tr>\n",
       "    <tr>\n",
       "      <th>2</th>\n",
       "      <td>1270.0</td>\n",
       "      <td>2.0</td>\n",
       "      <td>195.0</td>\n",
       "      <td>45.0</td>\n",
       "      <td>53650.0</td>\n",
       "      <td>0</td>\n",
       "      <td>0.020647</td>\n",
       "      <td>1</td>\n",
       "    </tr>\n",
       "    <tr>\n",
       "      <th>3</th>\n",
       "      <td>1000.0</td>\n",
       "      <td>3.0</td>\n",
       "      <td>0.0</td>\n",
       "      <td>92.0</td>\n",
       "      <td>97000.0</td>\n",
       "      <td>1</td>\n",
       "      <td>0.046117</td>\n",
       "      <td>1</td>\n",
       "    </tr>\n",
       "    <tr>\n",
       "      <th>4</th>\n",
       "      <td>1000.0</td>\n",
       "      <td>3.0</td>\n",
       "      <td>0.0</td>\n",
       "      <td>74.0</td>\n",
       "      <td>96000.0</td>\n",
       "      <td>2</td>\n",
       "      <td>0.056185</td>\n",
       "      <td>1</td>\n",
       "    </tr>\n",
       "  </tbody>\n",
       "</table>\n",
       "</div>"
      ],
      "text/plain": [
       "   Code postal  Nombre pieces principales  Surface terrain  \\\n",
       "0       1000.0                        1.0              0.0   \n",
       "1       1270.0                        2.0            195.0   \n",
       "2       1270.0                        2.0            195.0   \n",
       "3       1000.0                        3.0              0.0   \n",
       "4       1000.0                        3.0              0.0   \n",
       "\n",
       "   Surface reelle bati  Valeur fonciere  Nombre de lots    scores  anomaly  \n",
       "0                 32.0          54800.0               2  0.024640        1  \n",
       "1                 50.0          53650.0               0  0.015137        1  \n",
       "2                 45.0          53650.0               0  0.020647        1  \n",
       "3                 92.0          97000.0               1  0.046117        1  \n",
       "4                 74.0          96000.0               2  0.056185        1  "
      ]
     },
     "metadata": {},
     "execution_count": 11
    }
   ],
   "metadata": {}
  },
  {
   "cell_type": "code",
   "execution_count": 12,
   "source": [
    "# Vérification du nombre de valeurs\r\n",
    "print(\"df_apt_testif \", len(df_apt_testif), \" rows\")\r\n",
    "print(\"Anomalies \", len(df_apt_testif[df_apt_testif['anomaly']==-1]), \" rows\")"
   ],
   "outputs": [
    {
     "output_type": "stream",
     "name": "stdout",
     "text": [
      "df_apt_testif  391515  rows\n",
      "Anomalies  37011  rows\n"
     ]
    }
   ],
   "metadata": {}
  },
  {
   "cell_type": "code",
   "execution_count": 13,
   "source": [
    "# Suppression des anomalies\r\n",
    "df_apt_testif = df_apt_testif[['Code postal', 'Nombre pieces principales', 'Surface terrain', 'Surface reelle bati', 'Nombre de lots', 'Valeur fonciere']][df_apt_testif[\"anomaly\"] != -1]"
   ],
   "outputs": [],
   "metadata": {}
  },
  {
   "cell_type": "code",
   "execution_count": 14,
   "source": [
    "# Retrait des 10% de valeurs les plus hautes et 10% des valeurs les plus basses\r\n",
    "df_apt_testif = df_apt_testif[df_apt_testif['Valeur fonciere'].between(df_apt_testif['Valeur fonciere'].quantile(.10), df_apt_testif['Valeur fonciere'].quantile(.90))]"
   ],
   "outputs": [],
   "metadata": {}
  },
  {
   "cell_type": "markdown",
   "source": [
    "## Tests à l'échelle du département du Puy-de-Dôme"
   ],
   "metadata": {}
  },
  {
   "cell_type": "code",
   "execution_count": 15,
   "source": [
    "# Sélection de l'échantillon\r\n",
    "df_apt_63 = df_apt_testif[df_apt_testif['Code postal']>=63000][df_apt_testif['Code postal']<64000]"
   ],
   "outputs": [
    {
     "output_type": "stream",
     "name": "stderr",
     "text": [
      "C:\\Users\\audre\\AppData\\Local\\Temp/ipykernel_19832/2235199967.py:2: UserWarning: Boolean Series key will be reindexed to match DataFrame index.\n",
      "  df_apt_63 = df_apt_testif[df_apt_testif['Code postal']>=63000][df_apt_testif['Code postal']<64000]\n"
     ]
    }
   ],
   "metadata": {}
  },
  {
   "cell_type": "code",
   "execution_count": 16,
   "source": [
    "# Correlation\r\n",
    "data_corr_train = df_apt_63.corr()\r\n",
    "sns.heatmap(data_corr_train, linewidths=.5, annot=True)"
   ],
   "outputs": [
    {
     "output_type": "execute_result",
     "data": {
      "text/plain": [
       "<AxesSubplot:>"
      ]
     },
     "metadata": {},
     "execution_count": 16
    },
    {
     "output_type": "display_data",
     "data": {
      "image/png": "[encoded data removed]",
      "text/plain": [
       "<Figure size 432x288 with 2 Axes>"
      ]
     },
     "metadata": {
      "needs_background": "light"
     }
    }
   ],
   "metadata": {}
  },
  {
   "cell_type": "code",
   "execution_count": 17,
   "source": [
    "df_apt_63['Valeur fonciere'].plot(kind = 'box', title = 'Properties distribution according to their land value', figsize = (10, 8))\r\n",
    "plt.show()"
   ],
   "outputs": [
    {
     "output_type": "display_data",
     "data": {
      "image/png": "[encoded data removed]",
      "text/plain": [
       "<Figure size 720x576 with 1 Axes>"
      ]
     },
     "metadata": {
      "needs_background": "light"
     }
    }
   ],
   "metadata": {}
  },
  {
   "cell_type": "code",
   "execution_count": 18,
   "source": [
    "hist = df_apt_63.hist(column='Valeur fonciere')"
   ],
   "outputs": [
    {
     "output_type": "display_data",
     "data": {
      "image/png": "[encoded data removed]",
      "text/plain": [
       "<Figure size 432x288 with 1 Axes>"
      ]
     },
     "metadata": {
      "needs_background": "light"
     }
    }
   ],
   "metadata": {}
  },
  {
   "cell_type": "markdown",
   "source": [
    "## Utilisation de la méthode d'isolation forest principale sur les datasets d'appartements et maisons"
   ],
   "metadata": {}
  },
  {
   "cell_type": "code",
   "execution_count": 19,
   "source": [
    "isolation.isolation_forest(cr.CURATED_LOCAL_PATH + '/Train/Appartement.csv', sep='|')\r\n",
    "isolation.isolation_forest(cr.CURATED_LOCAL_PATH + '/Train/Maison.csv', sep='|')\r\n",
    "\r\n",
    "df_apt = pd.read_csv(cr.CURATED_LOCAL_PATH + '/Train/Appartement.csv', sep=',', encoding='utf-8')\r\n",
    "df_maisons = pd.read_csv(cr.CURATED_LOCAL_PATH + '/Train/Maison.csv', sep=',', encoding='utf-8')\r\n",
    "\r\n",
    "df_apt_test = df_apt[:10]\r\n",
    "df_maisons_test = df_maisons[:10]\r\n",
    "\r\n",
    "df_apt_test.to_csv(cr.TEST_PATH + 'Appartement.csv', sep='|', index=False, encoding='utf-8')\r\n",
    "df_maisons_test.to_csv(cr.TEST_PATH + 'Maison.csv', sep='|', index=False, encoding='utf-8')"
   ],
   "outputs": [],
   "metadata": {}
  },
  {
   "cell_type": "markdown",
   "source": [
    "## Etalonage d'un modèle de régression linéaire"
   ],
   "metadata": {}
  },
  {
   "cell_type": "code",
   "execution_count": 20,
   "source": [
    "# Instanciation du modèle\r\n",
    "linear_reg = Linear_reg()\r\n",
    "\r\n",
    "# Split en train et test sets\r\n",
    "train_features, test_features, train_labels, test_labels = linear_reg.train_test_split('maison', ',')"
   ],
   "outputs": [],
   "metadata": {}
  },
  {
   "cell_type": "code",
   "execution_count": 21,
   "source": [
    "# Entrainnement du modèle\r\n",
    "linear_reg.train(train_features, train_labels)"
   ],
   "outputs": [],
   "metadata": {}
  },
  {
   "cell_type": "markdown",
   "source": [
    "## Test du modèle"
   ],
   "metadata": {}
  },
  {
   "cell_type": "code",
   "execution_count": 22,
   "source": [
    "linear_reg.get_metrics(test_features, test_labels)"
   ],
   "outputs": [
    {
     "output_type": "stream",
     "name": "stdout",
     "text": [
      "Mean squared error:  5733031238.384098 \n",
      "Variance regression score function:  0.08925563928113511 \n",
      "Maximum residual error:  418260.190281978 \n",
      "Mean absolute error regression loss:  61928.57307850708\n"
     ]
    }
   ],
   "metadata": {}
  },
  {
   "cell_type": "code",
   "execution_count": 28,
   "source": [
    "# Prédictions sur un jeu de test\r\n",
    "df_maisons_test_set = pd.read_csv(cr.TEST_PATH + \"/Maison.csv\", sep=\"|\", usecols=['Nombre pieces principales', 'Surface terrain', 'Surface reelle bati', 'Code postal', 'Nombre de lots'], encoding=\"utf-8\")\r\n",
    "linear_reg.predict(df_maisons_test_set)\r\n",
    "df_maisons_test_set.head()\r\n"
   ],
   "outputs": [
    {
     "output_type": "execute_result",
     "data": {
      "text/html": [
       "<div>\n",
       "<style scoped>\n",
       "    .dataframe tbody tr th:only-of-type {\n",
       "        vertical-align: middle;\n",
       "    }\n",
       "\n",
       "    .dataframe tbody tr th {\n",
       "        vertical-align: top;\n",
       "    }\n",
       "\n",
       "    .dataframe thead th {\n",
       "        text-align: right;\n",
       "    }\n",
       "</style>\n",
       "<table border=\"1\" class=\"dataframe\">\n",
       "  <thead>\n",
       "    <tr style=\"text-align: right;\">\n",
       "      <th></th>\n",
       "      <th>Code postal</th>\n",
       "      <th>Nombre pieces principales</th>\n",
       "      <th>Surface terrain</th>\n",
       "      <th>Surface reelle bati</th>\n",
       "      <th>Nombre de lots</th>\n",
       "      <th>Valeur fonciere estimee</th>\n",
       "    </tr>\n",
       "  </thead>\n",
       "  <tbody>\n",
       "    <tr>\n",
       "      <th>0</th>\n",
       "      <td>1000.0</td>\n",
       "      <td>4.0</td>\n",
       "      <td>525.0</td>\n",
       "      <td>75.0</td>\n",
       "      <td>0</td>\n",
       "      <td>160217.0</td>\n",
       "    </tr>\n",
       "    <tr>\n",
       "      <th>1</th>\n",
       "      <td>1250.0</td>\n",
       "      <td>4.0</td>\n",
       "      <td>790.0</td>\n",
       "      <td>93.0</td>\n",
       "      <td>0</td>\n",
       "      <td>170539.0</td>\n",
       "    </tr>\n",
       "    <tr>\n",
       "      <th>2</th>\n",
       "      <td>1310.0</td>\n",
       "      <td>5.0</td>\n",
       "      <td>1350.0</td>\n",
       "      <td>90.0</td>\n",
       "      <td>0</td>\n",
       "      <td>172245.0</td>\n",
       "    </tr>\n",
       "    <tr>\n",
       "      <th>3</th>\n",
       "      <td>1310.0</td>\n",
       "      <td>5.0</td>\n",
       "      <td>360.0</td>\n",
       "      <td>90.0</td>\n",
       "      <td>0</td>\n",
       "      <td>172245.0</td>\n",
       "    </tr>\n",
       "    <tr>\n",
       "      <th>4</th>\n",
       "      <td>1310.0</td>\n",
       "      <td>5.0</td>\n",
       "      <td>1430.0</td>\n",
       "      <td>90.0</td>\n",
       "      <td>0</td>\n",
       "      <td>172245.0</td>\n",
       "    </tr>\n",
       "  </tbody>\n",
       "</table>\n",
       "</div>"
      ],
      "text/plain": [
       "   Code postal  Nombre pieces principales  Surface terrain  \\\n",
       "0       1000.0                        4.0            525.0   \n",
       "1       1250.0                        4.0            790.0   \n",
       "2       1310.0                        5.0           1350.0   \n",
       "3       1310.0                        5.0            360.0   \n",
       "4       1310.0                        5.0           1430.0   \n",
       "\n",
       "   Surface reelle bati  Nombre de lots  Valeur fonciere estimee  \n",
       "0                 75.0               0                 160217.0  \n",
       "1                 93.0               0                 170539.0  \n",
       "2                 90.0               0                 172245.0  \n",
       "3                 90.0               0                 172245.0  \n",
       "4                 90.0               0                 172245.0  "
      ]
     },
     "metadata": {},
     "execution_count": 28
    }
   ],
   "metadata": {}
  },
  {
   "cell_type": "code",
   "execution_count": 24,
   "source": [
    "# Vérification des valeurs\r\n",
    "df_maisons.head()"
   ],
   "outputs": [
    {
     "output_type": "execute_result",
     "data": {
      "text/html": [
       "<div>\n",
       "<style scoped>\n",
       "    .dataframe tbody tr th:only-of-type {\n",
       "        vertical-align: middle;\n",
       "    }\n",
       "\n",
       "    .dataframe tbody tr th {\n",
       "        vertical-align: top;\n",
       "    }\n",
       "\n",
       "    .dataframe thead th {\n",
       "        text-align: right;\n",
       "    }\n",
       "</style>\n",
       "<table border=\"1\" class=\"dataframe\">\n",
       "  <thead>\n",
       "    <tr style=\"text-align: right;\">\n",
       "      <th></th>\n",
       "      <th>Unnamed: 0</th>\n",
       "      <th>Code postal</th>\n",
       "      <th>Nombre pieces principales</th>\n",
       "      <th>Surface terrain</th>\n",
       "      <th>Surface reelle bati</th>\n",
       "      <th>Nombre de lots</th>\n",
       "      <th>Valeur fonciere</th>\n",
       "    </tr>\n",
       "  </thead>\n",
       "  <tbody>\n",
       "    <tr>\n",
       "      <th>0</th>\n",
       "      <td>1</td>\n",
       "      <td>1000.0</td>\n",
       "      <td>4.0</td>\n",
       "      <td>525.0</td>\n",
       "      <td>75.0</td>\n",
       "      <td>0</td>\n",
       "      <td>180300.0</td>\n",
       "    </tr>\n",
       "    <tr>\n",
       "      <th>1</th>\n",
       "      <td>4</td>\n",
       "      <td>1250.0</td>\n",
       "      <td>4.0</td>\n",
       "      <td>790.0</td>\n",
       "      <td>93.0</td>\n",
       "      <td>0</td>\n",
       "      <td>215000.0</td>\n",
       "    </tr>\n",
       "    <tr>\n",
       "      <th>2</th>\n",
       "      <td>5</td>\n",
       "      <td>1310.0</td>\n",
       "      <td>5.0</td>\n",
       "      <td>1350.0</td>\n",
       "      <td>90.0</td>\n",
       "      <td>0</td>\n",
       "      <td>179210.0</td>\n",
       "    </tr>\n",
       "    <tr>\n",
       "      <th>3</th>\n",
       "      <td>6</td>\n",
       "      <td>1310.0</td>\n",
       "      <td>5.0</td>\n",
       "      <td>360.0</td>\n",
       "      <td>90.0</td>\n",
       "      <td>0</td>\n",
       "      <td>179210.0</td>\n",
       "    </tr>\n",
       "    <tr>\n",
       "      <th>4</th>\n",
       "      <td>7</td>\n",
       "      <td>1310.0</td>\n",
       "      <td>5.0</td>\n",
       "      <td>1430.0</td>\n",
       "      <td>90.0</td>\n",
       "      <td>0</td>\n",
       "      <td>179210.0</td>\n",
       "    </tr>\n",
       "  </tbody>\n",
       "</table>\n",
       "</div>"
      ],
      "text/plain": [
       "   Unnamed: 0  Code postal  Nombre pieces principales  Surface terrain  \\\n",
       "0           1       1000.0                        4.0            525.0   \n",
       "1           4       1250.0                        4.0            790.0   \n",
       "2           5       1310.0                        5.0           1350.0   \n",
       "3           6       1310.0                        5.0            360.0   \n",
       "4           7       1310.0                        5.0           1430.0   \n",
       "\n",
       "   Surface reelle bati  Nombre de lots  Valeur fonciere  \n",
       "0                 75.0               0         180300.0  \n",
       "1                 93.0               0         215000.0  \n",
       "2                 90.0               0         179210.0  \n",
       "3                 90.0               0         179210.0  \n",
       "4                 90.0               0         179210.0  "
      ]
     },
     "metadata": {},
     "execution_count": 24
    }
   ],
   "metadata": {}
  },
  {
   "cell_type": "markdown",
   "source": [
    "## Prédiction d'une valeur foncière avec des features personnalisées"
   ],
   "metadata": {}
  },
  {
   "cell_type": "code",
   "execution_count": 32,
   "source": [
    "print(linear_reg.predict_value(50, 3, 195, 3, 63000))"
   ],
   "outputs": [
    {
     "output_type": "stream",
     "name": "stdout",
     "text": [
      "[8.69657394e+08]\n"
     ]
    }
   ],
   "metadata": {}
  }
 ],
 "metadata": {
  "orig_nbformat": 4,
  "language_info": {
   "name": "python",
   "version": "3.8.11",
   "mimetype": "text/x-python",
   "codemirror_mode": {
    "name": "ipython",
    "version": 3
   },
   "pygments_lexer": "ipython3",
   "nbconvert_exporter": "python",
   "file_extension": ".py"
  },
  "kernelspec": {
   "name": "python3",
   "display_name": "Python 3.8.11 64-bit ('API': conda)"
  },
  "interpreter": {
   "hash": "9687d5d8279dd312a0e4024d8cc4c4f0892cf3f0b637e639efc9f6d064d41366"
  }
 },
 "nbformat": 4,
 "nbformat_minor": 2
}