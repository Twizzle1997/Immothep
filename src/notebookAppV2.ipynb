{
 "cells": [
  {
   "cell_type": "markdown",
   "source": [
    "# Notebook de préparation au modèle d'estimation"
   ],
   "metadata": {}
  },
  {
   "cell_type": "markdown",
   "source": [
    "## Imports et paramètrage"
   ],
   "metadata": {}
  },
  {
   "cell_type": "code",
   "execution_count": 1,
   "source": [
    "%load_ext autoreload\r\n",
    "%autoreload 2\r\n",
    "import os\r\n",
    "import pandas as pd\r\n",
    "import numpy as np\r\n",
    "import seaborn as sn\r\n",
    "import matplotlib\r\n",
    "import matplotlib.pyplot as plt\r\n",
    "from classes.credentials import Credentials as cr\r\n",
    "from classes.prediction import ImmothepPrediction\r\n",
    "from classes.split import Splitter\r\n",
    "from sklearn.ensemble import IsolationForest\r\n",
    "\r\n",
    "splitter = Splitter()\r\n",
    "predictor = ImmothepPrediction()"
   ],
   "outputs": [],
   "metadata": {}
  },
  {
   "cell_type": "code",
   "execution_count": 2,
   "source": [
    "valeurs2020 = pd.read_csv(cr.PATH+'2020.txt', sep='|', usecols=['Nature mutation', 'Code postal','Nombre pieces principales', 'Surface terrain', 'Valeur fonciere', 'Type local', 'Nombre de lots', 'Surface reelle bati'], encoding='utf-8')"
   ],
   "outputs": [],
   "metadata": {}
  },
  {
   "cell_type": "markdown",
   "source": [
    "## Nettoyage du dataset de biens immobiliers 2020\r\n",
    "- Retirer les nuls\r\n",
    "- Ploter\r\n",
    "- Valeurs abhérentes\r\n",
    "- Isolation forest"
   ],
   "metadata": {}
  },
  {
   "cell_type": "code",
   "execution_count": 3,
   "source": [
    "# Drop les lignes avec des nulles : type local, nombre lots, nb pièces, nature mutation, valeur foncière et CP\r\n",
    "valeurs2020 = valeurs2020.dropna(subset = ['Type local', 'Nombre de lots', 'Nombre pieces principales', \"Nature mutation\", 'Valeur fonciere', 'Code postal'])\r\n",
    "\r\n",
    "# On remplace les null de la surface de terrain par 0\r\n",
    "valeurs2020['Surface terrain'] = valeurs2020['Surface terrain'].fillna(0) \r\n",
    "\r\n",
    "valeurs2020.head()"
   ],
   "outputs": [
    {
     "output_type": "execute_result",
     "data": {
      "text/html": [
       "<div>\n",
       "<style scoped>\n",
       "    .dataframe tbody tr th:only-of-type {\n",
       "        vertical-align: middle;\n",
       "    }\n",
       "\n",
       "    .dataframe tbody tr th {\n",
       "        vertical-align: top;\n",
       "    }\n",
       "\n",
       "    .dataframe thead th {\n",
       "        text-align: right;\n",
       "    }\n",
       "</style>\n",
       "<table border=\"1\" class=\"dataframe\">\n",
       "  <thead>\n",
       "    <tr style=\"text-align: right;\">\n",
       "      <th></th>\n",
       "      <th>Nature mutation</th>\n",
       "      <th>Valeur fonciere</th>\n",
       "      <th>Code postal</th>\n",
       "      <th>Nombre de lots</th>\n",
       "      <th>Type local</th>\n",
       "      <th>Surface reelle bati</th>\n",
       "      <th>Nombre pieces principales</th>\n",
       "      <th>Surface terrain</th>\n",
       "    </tr>\n",
       "  </thead>\n",
       "  <tbody>\n",
       "    <tr>\n",
       "      <th>11</th>\n",
       "      <td>Vente</td>\n",
       "      <td>72000,00</td>\n",
       "      <td>1270.0</td>\n",
       "      <td>0</td>\n",
       "      <td>Maison</td>\n",
       "      <td>35.0</td>\n",
       "      <td>2.0</td>\n",
       "      <td>381.0</td>\n",
       "    </tr>\n",
       "    <tr>\n",
       "      <th>13</th>\n",
       "      <td>Vente</td>\n",
       "      <td>180300,00</td>\n",
       "      <td>1000.0</td>\n",
       "      <td>0</td>\n",
       "      <td>Maison</td>\n",
       "      <td>75.0</td>\n",
       "      <td>4.0</td>\n",
       "      <td>525.0</td>\n",
       "    </tr>\n",
       "    <tr>\n",
       "      <th>14</th>\n",
       "      <td>Vente</td>\n",
       "      <td>54800,00</td>\n",
       "      <td>1000.0</td>\n",
       "      <td>2</td>\n",
       "      <td>Appartement</td>\n",
       "      <td>32.0</td>\n",
       "      <td>1.0</td>\n",
       "      <td>0.0</td>\n",
       "    </tr>\n",
       "    <tr>\n",
       "      <th>16</th>\n",
       "      <td>Vente</td>\n",
       "      <td>350750,00</td>\n",
       "      <td>1000.0</td>\n",
       "      <td>0</td>\n",
       "      <td>Maison</td>\n",
       "      <td>201.0</td>\n",
       "      <td>7.0</td>\n",
       "      <td>1267.0</td>\n",
       "    </tr>\n",
       "    <tr>\n",
       "      <th>17</th>\n",
       "      <td>Vente</td>\n",
       "      <td>350750,00</td>\n",
       "      <td>1000.0</td>\n",
       "      <td>0</td>\n",
       "      <td>Maison</td>\n",
       "      <td>201.0</td>\n",
       "      <td>7.0</td>\n",
       "      <td>1497.0</td>\n",
       "    </tr>\n",
       "  </tbody>\n",
       "</table>\n",
       "</div>"
      ],
      "text/plain": [
       "   Nature mutation Valeur fonciere  Code postal  Nombre de lots   Type local  \\\n",
       "11           Vente        72000,00       1270.0               0       Maison   \n",
       "13           Vente       180300,00       1000.0               0       Maison   \n",
       "14           Vente        54800,00       1000.0               2  Appartement   \n",
       "16           Vente       350750,00       1000.0               0       Maison   \n",
       "17           Vente       350750,00       1000.0               0       Maison   \n",
       "\n",
       "    Surface reelle bati  Nombre pieces principales  Surface terrain  \n",
       "11                 35.0                        2.0            381.0  \n",
       "13                 75.0                        4.0            525.0  \n",
       "14                 32.0                        1.0              0.0  \n",
       "16                201.0                        7.0           1267.0  \n",
       "17                201.0                        7.0           1497.0  "
      ]
     },
     "metadata": {},
     "execution_count": 3
    }
   ],
   "metadata": {}
  },
  {
   "cell_type": "code",
   "execution_count": 4,
   "source": [
    "# Premier tri, on garde les appartements et maisons, les ventes, un nombre de pièces principales supérieur à 0, \r\n",
    "# un nombre de lots inférieur à 6, surface réelle bâtie supérieure à 8 (minimum légal)\r\n",
    "valeurs2020 = valeurs2020[[\r\n",
    "    'Type local',\r\n",
    "    'Code postal', \r\n",
    "    'Nombre pieces principales', \r\n",
    "    'Surface terrain', \r\n",
    "    'Surface reelle bati',\r\n",
    "    'Valeur fonciere'\r\n",
    "    ]][valeurs2020['Type local'].str.contains(\"Appartement|Maison\", regex=True)][valeurs2020['Nature mutation'].str.contains(\"Vente\", regex=True)][valeurs2020['Nombre de lots']<6][valeurs2020['Nombre pieces principales']>0][valeurs2020['Surface reelle bati']>=8]\r\n"
   ],
   "outputs": [
    {
     "output_type": "stream",
     "name": "stderr",
     "text": [
      "C:\\Users\\audre\\AppData\\Local\\Temp/ipykernel_19576/2911758537.py:3: UserWarning: Boolean Series key will be reindexed to match DataFrame index.\n",
      "  valeurs2020 = valeurs2020[[\n"
     ]
    }
   ],
   "metadata": {}
  },
  {
   "cell_type": "code",
   "execution_count": 5,
   "source": [
    "valeurs2020.info()"
   ],
   "outputs": [
    {
     "output_type": "stream",
     "name": "stdout",
     "text": [
      "<class 'pandas.core.frame.DataFrame'>\n",
      "Int64Index: 915817 entries, 11 to 2459557\n",
      "Data columns (total 6 columns):\n",
      " #   Column                     Non-Null Count   Dtype  \n",
      "---  ------                     --------------   -----  \n",
      " 0   Type local                 915817 non-null  object \n",
      " 1   Code postal                915817 non-null  float64\n",
      " 2   Nombre pieces principales  915817 non-null  float64\n",
      " 3   Surface terrain            915817 non-null  float64\n",
      " 4   Surface reelle bati        915817 non-null  float64\n",
      " 5   Valeur fonciere            915817 non-null  object \n",
      "dtypes: float64(4), object(2)\n",
      "memory usage: 48.9+ MB\n"
     ]
    }
   ],
   "metadata": {}
  },
  {
   "cell_type": "code",
   "execution_count": 6,
   "source": [
    "# Changement des virgules en points\r\n",
    "valeurs2020[['Valeur fonciere']] = valeurs2020[['Valeur fonciere']].replace(',', '.', regex=True)\r\n",
    "\r\n",
    "# Passage des objets en floats\r\n",
    "valeurs2020[['Valeur fonciere']]  = valeurs2020[['Valeur fonciere']].astype('float')\r\n",
    "\r\n",
    "valeurs2020.info()"
   ],
   "outputs": [
    {
     "output_type": "stream",
     "name": "stdout",
     "text": [
      "<class 'pandas.core.frame.DataFrame'>\n",
      "Int64Index: 915817 entries, 11 to 2459557\n",
      "Data columns (total 6 columns):\n",
      " #   Column                     Non-Null Count   Dtype  \n",
      "---  ------                     --------------   -----  \n",
      " 0   Type local                 915817 non-null  object \n",
      " 1   Code postal                915817 non-null  float64\n",
      " 2   Nombre pieces principales  915817 non-null  float64\n",
      " 3   Surface terrain            915817 non-null  float64\n",
      " 4   Surface reelle bati        915817 non-null  float64\n",
      " 5   Valeur fonciere            915817 non-null  float64\n",
      "dtypes: float64(5), object(1)\n",
      "memory usage: 48.9+ MB\n"
     ]
    }
   ],
   "metadata": {}
  },
  {
   "cell_type": "code",
   "execution_count": 7,
   "source": [
    "# Séparation des maisons et appartements\r\n",
    "valeursMaisons = valeurs2020[valeurs2020['Type local'].str.contains(\"Maison\", regex=True)]\r\n",
    "valeursApparts = valeurs2020[valeurs2020['Type local'].str.contains(\"Appartement\", regex=True)]\r\n",
    "\r\n",
    "# Import en CSV dans src/data/currated\r\n",
    "valeursMaisons.to_csv(cr.CURATED_LOCAL_PATH + 'filtreMaisons2020.csv', index=False)\r\n",
    "valeursApparts.to_csv(cr.CURATED_LOCAL_PATH + 'filtreAppart2020.csv', index=False)"
   ],
   "outputs": [],
   "metadata": {}
  },
  {
   "cell_type": "markdown",
   "source": [
    "## Split du dataset en départements"
   ],
   "metadata": {}
  },
  {
   "cell_type": "code",
   "execution_count": 9,
   "source": [
    "# Split des données par type de logement et par département\r\n",
    "splitter.split_datas('filtreMaisons2020.csv', 'Code postal', 'CPMaisons')\r\n",
    "splitter.split_datas('filtreAppart2020.csv', 'Code postal', 'CPAppart')"
   ],
   "outputs": [],
   "metadata": {}
  },
  {
   "cell_type": "markdown",
   "source": [
    "## Etalonage d'un modèle de régression linéaire"
   ],
   "metadata": {}
  },
  {
   "cell_type": "markdown",
   "source": [
    "## Test du modèle"
   ],
   "metadata": {}
  },
  {
   "cell_type": "code",
   "execution_count": null,
   "source": [],
   "outputs": [],
   "metadata": {}
  }
 ],
 "metadata": {
  "orig_nbformat": 4,
  "language_info": {
   "name": "python",
   "version": "3.8.11",
   "mimetype": "text/x-python",
   "codemirror_mode": {
    "name": "ipython",
    "version": 3
   },
   "pygments_lexer": "ipython3",
   "nbconvert_exporter": "python",
   "file_extension": ".py"
  },
  "kernelspec": {
   "name": "python3",
   "display_name": "Python 3.8.11 64-bit ('API': conda)"
  },
  "interpreter": {
   "hash": "9687d5d8279dd312a0e4024d8cc4c4f0892cf3f0b637e639efc9f6d064d41366"
  }
 },
 "nbformat": 4,
 "nbformat_minor": 2
}